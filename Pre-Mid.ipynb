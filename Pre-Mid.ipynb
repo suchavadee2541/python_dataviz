{
 "cells": [
  {
   "cell_type": "markdown",
   "metadata": {},
   "source": [
    "ข้อ 1\n",
    "สร้าง function ชื่อ createDict ซึ่งทำหน้าที่:\n",
    "- function รับ input เป็น list 2 ตัวที่มีขนาดเท่ากัน และ ค่า True/False\n",
    "- ถ้า True จะสร้าง dict ที่มี key เป็นค่าจาก list ตัวที่ 1 และ value จาก list ตัวที่ 2\n",
    "- ถ้า False จะสร้าง dict ที่มี key เป็นค่าจาก list ตัวที่ 2 และ value จาก list ตัวที่ 1\n",
    "- output ของ function คือ dict ที่สร้างขึ้น\n",
    "\n",
    "เช่น\n",
    "\n",
    "output1 = createDict( [ 'apple' , 'banana' ] , [ 1 , 2 ] , True )\n",
    "\n",
    "จะได้ output1 เป็น { 'apple' : 1 , 'banana' : 2 }\n",
    "\n",
    "output2 = createDict( [ 'apple' , 'banana' ] , [ 1 , 2 ] , False )\n",
    "\n",
    "จะได้ output2 เป็น { 1 : 'apple' , 2 : 'banana' }"
   ]
  },
  {
   "cell_type": "code",
   "execution_count": 16,
   "metadata": {},
   "outputs": [],
   "source": [
    "# วิธีที่1\n",
    "def createDict(k1,k2,x):\n",
    "    f = {}\n",
    "    for i in range(len(k1)):\n",
    "        if x==True:\n",
    "            f[k1[i]] = k2[i]\n",
    "        else:\n",
    "            f[k2[i]] = k1[i]\n",
    "    return(f)\n",
    "            \n",
    "        "
   ]
  },
  {
   "cell_type": "code",
   "execution_count": 31,
   "metadata": {},
   "outputs": [
    {
     "data": {
      "text/plain": [
       "{'apple': 1, 'banana': 2}"
      ]
     },
     "execution_count": 31,
     "metadata": {},
     "output_type": "execute_result"
    }
   ],
   "source": [
    "createDict(['apple','banana'],[1,2],True)"
   ]
  },
  {
   "cell_type": "code",
   "execution_count": 32,
   "metadata": {},
   "outputs": [],
   "source": [
    "# วิธีที่2\n",
    "def createDict2(l_text,l_number,logicV):\n",
    "    if logicV: #logicV == True\n",
    "        retdict = {}\n",
    "        for i in range(len(l_text)):\n",
    "            retdict[l_text[i]] = l_number[i]\n",
    "    else:\n",
    "        retdict = {}\n",
    "        for i in range(len(l_text)):\n",
    "            retdict[l_number[i]] = l_text[i]\n",
    "    return retdict"
   ]
  },
  {
   "cell_type": "code",
   "execution_count": 34,
   "metadata": {},
   "outputs": [
    {
     "data": {
      "text/plain": [
       "{'apple': 1, 'banana': 2}"
      ]
     },
     "execution_count": 34,
     "metadata": {},
     "output_type": "execute_result"
    }
   ],
   "source": [
    "createDict2(['apple','banana'],[1,2],True)"
   ]
  },
  {
   "cell_type": "markdown",
   "metadata": {},
   "source": [
    "2> Use \"Wuhan_nCoV_GNome\" to answer these questions\n",
    "   - how long is the sequence?\n",
    "   - how many time A,T,G,C in the sequence?\n",
    "   - what is the most frequent 5-char-long subsequence?"
   ]
  },
  {
   "cell_type": "code",
   "execution_count": 35,
   "metadata": {},
   "outputs": [],
   "source": [
    "import pandas as pd"
   ]
  },
  {
   "cell_type": "code",
   "execution_count": 38,
   "metadata": {},
   "outputs": [],
   "source": [
    "DNA_df = pd.read_csv('Wuhan_nCoV_GNome.txt',header=None)"
   ]
  },
  {
   "cell_type": "markdown",
   "metadata": {},
   "source": [
    "how long is the sequence?"
   ]
  },
  {
   "cell_type": "code",
   "execution_count": 107,
   "metadata": {},
   "outputs": [],
   "source": [
    "DNAlong = 0\n",
    "for i in range(len(DNA_df)):\n",
    "    DNAlong = DNAlong+len(DNA_df.iloc[i][0]) # DNAlong += len(DNA_df.iloc[i][0])"
   ]
  },
  {
   "cell_type": "code",
   "execution_count": 106,
   "metadata": {},
   "outputs": [
    {
     "name": "stdout",
     "output_type": "stream",
     "text": [
      "sequence is 29903 characters long\n"
     ]
    }
   ],
   "source": [
    "print(f'sequence is {DNAlong} characters long')"
   ]
  },
  {
   "cell_type": "code",
   "execution_count": 108,
   "metadata": {},
   "outputs": [],
   "source": [
    "def char1(seq,char):\n",
    "    charcount = 0\n",
    "    for i in seq :\n",
    "        if i == char:\n",
    "            charcount += 1\n",
    "    return charcount"
   ]
  },
  {
   "cell_type": "code",
   "execution_count": 112,
   "metadata": {},
   "outputs": [
    {
     "data": {
      "text/plain": [
       "19"
      ]
     },
     "execution_count": 112,
     "metadata": {},
     "output_type": "execute_result"
    }
   ],
   "source": [
    "char1(DNA_df.iloc[1][0],'A')"
   ]
  },
  {
   "cell_type": "code",
   "execution_count": 121,
   "metadata": {},
   "outputs": [
    {
     "name": "stdout",
     "output_type": "stream",
     "text": [
      "A = 8954 T = 9594 G =5863 C = 5492\n"
     ]
    }
   ],
   "source": [
    "Along = 0\n",
    "Tlong = 0\n",
    "Glong = 0\n",
    "Clong = 0\n",
    "for i in range(len(DNA_df)):\n",
    "    Along += char1(DNA_df.iloc[i][0],'A')\n",
    "    Tlong += char1(DNA_df.iloc[i][0],'T')\n",
    "    Glong += char1(DNA_df.iloc[i][0],'G')\n",
    "    Clong += char1(DNA_df.iloc[i][0],'C')\n",
    "print(f'A = {Along} T = {Tlong} G ={Glong} C = {Clong}')"
   ]
  },
  {
   "cell_type": "markdown",
   "metadata": {},
   "source": [
    "what is the most frequent 5-char-long subsequence?"
   ]
  },
  {
   "cell_type": "code",
   "execution_count": 123,
   "metadata": {},
   "outputs": [],
   "source": [
    "listp = 'ATTTATAGCGC'"
   ]
  },
  {
   "cell_type": "code",
   "execution_count": 2,
   "metadata": {},
   "outputs": [],
   "source": [
    "def str1(seq):\n",
    "    str23 = []\n",
    "    for i in range(len(seq)-4):\n",
    "        str23.append(seq[i:i+5]) # appendคือการเพิ่ม seq(0:5)=(0,1,2,3,4)\n",
    "    return str23"
   ]
  },
  {
   "cell_type": "code",
   "execution_count": 131,
   "metadata": {},
   "outputs": [
    {
     "data": {
      "text/plain": [
       "['ATTTA', 'TTTAT', 'TTATA', 'TATAG', 'ATAGC', 'TAGCG', 'AGCGC']"
      ]
     },
     "execution_count": 131,
     "metadata": {},
     "output_type": "execute_result"
    }
   ],
   "source": [
    "str1(listp)"
   ]
  },
  {
   "cell_type": "code",
   "execution_count": 134,
   "metadata": {},
   "outputs": [],
   "source": [
    "liststr5 = []\n",
    "for i in range(len(DNA_df)):\n",
    "    liststr5 += str1(DNA_df.iloc[i][0])"
   ]
  },
  {
   "cell_type": "code",
   "execution_count": 136,
   "metadata": {},
   "outputs": [
    {
     "data": {
      "text/plain": [
       "28191"
      ]
     },
     "execution_count": 136,
     "metadata": {},
     "output_type": "execute_result"
    }
   ],
   "source": [
    "len(liststr5)"
   ]
  },
  {
   "cell_type": "code",
   "execution_count": 138,
   "metadata": {},
   "outputs": [],
   "source": [
    "unique_5char=set(liststr5) # กำจัดตัวที่ซ่ำ"
   ]
  },
  {
   "cell_type": "code",
   "execution_count": 139,
   "metadata": {},
   "outputs": [
    {
     "data": {
      "text/plain": [
       "1022"
      ]
     },
     "execution_count": 139,
     "metadata": {},
     "output_type": "execute_result"
    }
   ],
   "source": [
    "len(unique_5char)"
   ]
  },
  {
   "cell_type": "code",
   "execution_count": 140,
   "metadata": {},
   "outputs": [],
   "source": [
    "dict_5char = {}\n",
    "for i in unique_5char:\n",
    "    num = 0\n",
    "    for j in liststr5:\n",
    "        if i == j:\n",
    "            num += 1\n",
    "    dict_5char[i] = num"
   ]
  },
  {
   "cell_type": "code",
   "execution_count": 142,
   "metadata": {},
   "outputs": [
    {
     "data": {
      "text/plain": [
       "84"
      ]
     },
     "execution_count": 142,
     "metadata": {},
     "output_type": "execute_result"
    }
   ],
   "source": [
    "dict_5char['TGGTG']"
   ]
  },
  {
   "cell_type": "code",
   "execution_count": 148,
   "metadata": {},
   "outputs": [],
   "source": [
    "MaxV = -100\n",
    "Maxkey = None\n",
    "for i in dict_5char.keys():\n",
    "    if dict_5char[i] > MaxV:\n",
    "        MaxV = dict_5char[i]\n",
    "        Maxkey = i"
   ]
  },
  {
   "cell_type": "code",
   "execution_count": 150,
   "metadata": {},
   "outputs": [
    {
     "name": "stdout",
     "output_type": "stream",
     "text": [
      "Max 5-char-long sequence is TTGTT with frequency equals 99\n"
     ]
    }
   ],
   "source": [
    "print(f'Max 5-char-long sequence is {Maxkey} with frequency equals {MaxV}')"
   ]
  },
  {
   "cell_type": "code",
   "execution_count": null,
   "metadata": {},
   "outputs": [],
   "source": []
  },
  {
   "cell_type": "markdown",
   "metadata": {},
   "source": [
    "## ข้อ 3"
   ]
  },
  {
   "cell_type": "code",
   "execution_count": 1,
   "metadata": {},
   "outputs": [],
   "source": [
    "import pandas as pd"
   ]
  },
  {
   "cell_type": "code",
   "execution_count": 2,
   "metadata": {},
   "outputs": [],
   "source": [
    "df = pd.read_excel('data.xlsx')"
   ]
  },
  {
   "cell_type": "code",
   "execution_count": 3,
   "metadata": {},
   "outputs": [
    {
     "data": {
      "text/html": [
       "<div>\n",
       "<style scoped>\n",
       "    .dataframe tbody tr th:only-of-type {\n",
       "        vertical-align: middle;\n",
       "    }\n",
       "\n",
       "    .dataframe tbody tr th {\n",
       "        vertical-align: top;\n",
       "    }\n",
       "\n",
       "    .dataframe thead th {\n",
       "        text-align: right;\n",
       "    }\n",
       "</style>\n",
       "<table border=\"1\" class=\"dataframe\">\n",
       "  <thead>\n",
       "    <tr style=\"text-align: right;\">\n",
       "      <th></th>\n",
       "      <th>No</th>\n",
       "      <th>ภาษาอีสาน</th>\n",
       "      <th>ภาษาไทย</th>\n",
       "      <th>เริ่ม</th>\n",
       "      <th>จบ</th>\n",
       "      <th>จบ-เริ่ม</th>\n",
       "      <th>G2P</th>\n",
       "    </tr>\n",
       "  </thead>\n",
       "  <tbody>\n",
       "    <tr>\n",
       "      <th>0</th>\n",
       "      <td>1.0</td>\n",
       "      <td>สวัสดี/สุผู้สุคน/เด้อ/จ้า</td>\n",
       "      <td>สวัสดี/ทุก ๆ คน/นะ/คะ</td>\n",
       "      <td>00:00:16</td>\n",
       "      <td>00:00:18</td>\n",
       "      <td>00:00:02</td>\n",
       "      <td>s-a-z^-1 w-a-t^-1 d-ii-z^-0 *s-u-z^-1 *ph-uu-z...</td>\n",
       "    </tr>\n",
       "    <tr>\n",
       "      <th>1</th>\n",
       "      <td>2.0</td>\n",
       "      <td>กิน/ข้าว/ก่อน/เด้อ/จ้า/ ไผ/สิ/ถ่า/เค้า/ดาวน์</td>\n",
       "      <td>กิน/ข้าว/ก่อน/นะ/จ้ะ/ใคร/จะ/รอ/เค้า/ดาวน์</td>\n",
       "      <td>00:02:14</td>\n",
       "      <td>00:02:18</td>\n",
       "      <td>00:00:04</td>\n",
       "      <td>k-i-n^-0 *kh-aa-w^-2 *k-@@-n^-1 *d-qq-z^-2 *c-...</td>\n",
       "    </tr>\n",
       "    <tr>\n",
       "      <th>2</th>\n",
       "      <td>3.0</td>\n",
       "      <td>เค้า/ดาว/กะ/ขอ/ให้/เค้า/ดาว/อย่าง/มี/ความ/สุข/...</td>\n",
       "      <td>เค้า/ดาวน์/ก็/ขอ/ให้/เค้า/ดาน์/อย่าง/มี/ความ/ส...</td>\n",
       "      <td>00:02:21</td>\n",
       "      <td>00:02:25</td>\n",
       "      <td>00:00:04</td>\n",
       "      <td>kh-a-w^-3 *d-aa-w^-0 *k-a-z^-1 *kh-@@-z^-4 *h-...</td>\n",
       "    </tr>\n",
       "    <tr>\n",
       "      <th>3</th>\n",
       "      <td>4.0</td>\n",
       "      <td>นี่/จ้า/อา/หาร/เย็น/เป็น/ลา/ซาน/ย่า/กับ/ผัก/สด...</td>\n",
       "      <td>นี่/จ้า/อา/หาร/เย็น/เป็น/ลา/ซาน/ย่า/กับ/ผัก/สด...</td>\n",
       "      <td>00:02:33</td>\n",
       "      <td>00:02:37</td>\n",
       "      <td>00:00:04</td>\n",
       "      <td>n-ii-z^-2 *c-aa-z^-2 *z-aa-z^-0 *h-aa-n^-4 *j-...</td>\n",
       "    </tr>\n",
       "    <tr>\n",
       "      <th>4</th>\n",
       "      <td>5.0</td>\n",
       "      <td>ขอ/ให้/เชิญ/แซ่บ/เด้อ/พี่/น้อง</td>\n",
       "      <td>ขอ/ให้/เชิญ/อร่อย/นะ/ทุก/คน</td>\n",
       "      <td>00:02:38</td>\n",
       "      <td>00:02:41</td>\n",
       "      <td>00:00:03</td>\n",
       "      <td>kh-@@-z^-4 *h-a-j^-2 *ch-qq-n^-0 *s-xx-p^-2 *d...</td>\n",
       "    </tr>\n",
       "    <tr>\n",
       "      <th>5</th>\n",
       "      <td>6.0</td>\n",
       "      <td>แมท/ธิว/บอก/ว่า/อี/แม่/อย่า/พึ่ง/หลับ/เด้อ</td>\n",
       "      <td>แมท/ธิว/บอก/ว่า/คุณ/แม่/อย่า/พึ่ง/หลับ/นะ</td>\n",
       "      <td>00:03:08</td>\n",
       "      <td>00:03:08</td>\n",
       "      <td>00:00:00</td>\n",
       "      <td>m-xx-t^-1 *th-i-w^-0 *b-@@-k^-1 *w-aa-z^-2 *z-...</td>\n",
       "    </tr>\n",
       "    <tr>\n",
       "      <th>6</th>\n",
       "      <td>7.0</td>\n",
       "      <td>เงียบ/แฮงจัด</td>\n",
       "      <td>เงียบ/มาก ๆ</td>\n",
       "      <td>00:09:51</td>\n",
       "      <td>00:09:53</td>\n",
       "      <td>00:00:02</td>\n",
       "      <td>ng-iia-p^-2 *h-xx-ng^-0 *c-a-t^-1</td>\n",
       "    </tr>\n",
       "    <tr>\n",
       "      <th>7</th>\n",
       "      <td>8.0</td>\n",
       "      <td>บ่/มี/ความ/รื่น/เริง/อี/หยัง/เลย/ข้าง/นอก</td>\n",
       "      <td>ไม่/มี/ความ/รื่น/เริง/อะ/ไร/เลย/ด้าน/นอก</td>\n",
       "      <td>00:10:07</td>\n",
       "      <td>00:10:11</td>\n",
       "      <td>00:00:04</td>\n",
       "      <td>b-@@-z^-1 *m-ii-z^-0 *khw-aa-m^-0 *r-vv-n^-2 *...</td>\n",
       "    </tr>\n",
       "    <tr>\n",
       "      <th>8</th>\n",
       "      <td>9.0</td>\n",
       "      <td>มื้อ/นี้/สิ/เบิ่ง/พุ/ตอน/หก/ทุ่ม/จ่ะ</td>\n",
       "      <td>วัน/นี้/จะ/ดู/พุ/ตอน/หก/ทุ่ม/นะ/คะ</td>\n",
       "      <td>00:10:29</td>\n",
       "      <td>00:10:33</td>\n",
       "      <td>00:00:04</td>\n",
       "      <td>m-vv-z^-3 *n-ii-z^-3 *s-i-z^-1 *b-q-ng^-1 *ph-...</td>\n",
       "    </tr>\n",
       "    <tr>\n",
       "      <th>9</th>\n",
       "      <td>10.0</td>\n",
       "      <td>ถ้า/ฝน/ตก/หิ/มะ/ตก/คึ/สิ/บ่/ได้/ออก/ไป</td>\n",
       "      <td>ถ้า/ฝน/ตก/หิ/มะ/ตก/คง/จะ/ไม่/ได้/ออก/ไป</td>\n",
       "      <td>00:10:40</td>\n",
       "      <td>00:10:43</td>\n",
       "      <td>00:00:03</td>\n",
       "      <td>th-aa-z^-2 *f-o-n^-4 *t-o-k^-1 *h-i-z^-1 *m-a-...</td>\n",
       "    </tr>\n",
       "    <tr>\n",
       "      <th>10</th>\n",
       "      <td>11.0</td>\n",
       "      <td>ปี/ที่/แล้ว/ออก/ไป/เบิ่ง/เขา/จุด/พุ/มัน/เป็น/ฝ...</td>\n",
       "      <td>ปี/ที่/แล้ว/ออก/ไป/ดู/เขา/จุด/พุ/มัน/เป็น/ฝน/ห...</td>\n",
       "      <td>00:10:52</td>\n",
       "      <td>00:10:56</td>\n",
       "      <td>00:00:04</td>\n",
       "      <td>p-ii-z^-0 *th-ii-z^-2 *l-xx-w^-3 *z-@@-k^-1 *p...</td>\n",
       "    </tr>\n",
       "    <tr>\n",
       "      <th>11</th>\n",
       "      <td>12.0</td>\n",
       "      <td>เพิ่น/ก้ม/แบบ/คน/เมา/นะ/จ้ะ</td>\n",
       "      <td>เขา/ก้ม/แบบ/คน/เมา/อ่ะ/ค่ะ</td>\n",
       "      <td>00:11:09</td>\n",
       "      <td>00:11:12</td>\n",
       "      <td>00:00:03</td>\n",
       "      <td>ph-qq-n^-2 *k-o-m^-3 *b-xx-p^-1 *kh-o-n^-0 *m-...</td>\n",
       "    </tr>\n",
       "    <tr>\n",
       "      <th>12</th>\n",
       "      <td>13.0</td>\n",
       "      <td>ก้ม/ก้ม/ส่อง/พุ/เพิ่น/จุด/ละ/เพิ่น/กะ/ก้ม/ส่อง...</td>\n",
       "      <td>ก้ม/ก้ม/ส่อง/พุ/เขา/จุด/ละ/เขา/ก็/ก้ม/ส่อง/เขา...</td>\n",
       "      <td>00:11:14</td>\n",
       "      <td>00:11:18</td>\n",
       "      <td>00:00:04</td>\n",
       "      <td>k-o-m^-3 *k-o-m^-3 *s-@-ng^-1 *ph-u-z^-3 *ph-q...</td>\n",
       "    </tr>\n",
       "    <tr>\n",
       "      <th>13</th>\n",
       "      <td>14.0</td>\n",
       "      <td>เพิ่น/สิ/โซ/กล้าม/เพิ่น/หั่น/นะ/พี่น้อง</td>\n",
       "      <td>เขา/จะ/โชว์/กล้าม/เขา/นั่น/แหละ/ทุกคน</td>\n",
       "      <td>00:13:11</td>\n",
       "      <td>00:13:13</td>\n",
       "      <td>00:00:02</td>\n",
       "      <td>ph-qq-n^-2 *s-i-z^-1 *s-oo-z^-0 *kl-aa-m^-2 *p...</td>\n",
       "    </tr>\n",
       "    <tr>\n",
       "      <th>14</th>\n",
       "      <td>15.0</td>\n",
       "      <td>โอ/เค/จ้า/สุผู้สุคน/มื้อ/นี้/จั่ง/ใด๋/กะ/ขอบ/ค...</td>\n",
       "      <td>โอ/เค/จ้า/ทุก ๆ  คน/วัน/นี้/ยัง/ไง/ก็/ขอบ/คุณ/...</td>\n",
       "      <td>00:15:23</td>\n",
       "      <td>00:15:26</td>\n",
       "      <td>00:00:03</td>\n",
       "      <td>z-oo-z^-0 *kh-ee-z^-0 *c-aa-z^-2\\n*s-u-z^-1 *p...</td>\n",
       "    </tr>\n",
       "    <tr>\n",
       "      <th>15</th>\n",
       "      <td>16.0</td>\n",
       "      <td>จ้า/พ้อ/กัน/ใหม่/ใน/คลิป/วิ/ดี/โอ/หน้า/สวัสดี/...</td>\n",
       "      <td>จ้า/เจอ/กัน/ใหม่/ใน/คลิป/วิ/ดี/โอ/หน้า/สวัสดี/...</td>\n",
       "      <td>00:15:30</td>\n",
       "      <td>00:15:33</td>\n",
       "      <td>00:00:03</td>\n",
       "      <td>c-aa-z^-2 *ph-@@-z^-3 *k-a-n^-0 *m-a-j^-1 *n-a...</td>\n",
       "    </tr>\n",
       "    <tr>\n",
       "      <th>16</th>\n",
       "      <td>NaN</td>\n",
       "      <td>NaN</td>\n",
       "      <td>NaN</td>\n",
       "      <td>NaN</td>\n",
       "      <td>NaN</td>\n",
       "      <td>00:00:49</td>\n",
       "      <td>NaN</td>\n",
       "    </tr>\n",
       "  </tbody>\n",
       "</table>\n",
       "</div>"
      ],
      "text/plain": [
       "      No                                          ภาษาอีสาน  \\\n",
       "0    1.0                          สวัสดี/สุผู้สุคน/เด้อ/จ้า   \n",
       "1    2.0       กิน/ข้าว/ก่อน/เด้อ/จ้า/ ไผ/สิ/ถ่า/เค้า/ดาวน์   \n",
       "2    3.0  เค้า/ดาว/กะ/ขอ/ให้/เค้า/ดาว/อย่าง/มี/ความ/สุข/...   \n",
       "3    4.0  นี่/จ้า/อา/หาร/เย็น/เป็น/ลา/ซาน/ย่า/กับ/ผัก/สด...   \n",
       "4    5.0                     ขอ/ให้/เชิญ/แซ่บ/เด้อ/พี่/น้อง   \n",
       "5    6.0         แมท/ธิว/บอก/ว่า/อี/แม่/อย่า/พึ่ง/หลับ/เด้อ   \n",
       "6    7.0                                       เงียบ/แฮงจัด   \n",
       "7    8.0          บ่/มี/ความ/รื่น/เริง/อี/หยัง/เลย/ข้าง/นอก   \n",
       "8    9.0               มื้อ/นี้/สิ/เบิ่ง/พุ/ตอน/หก/ทุ่ม/จ่ะ   \n",
       "9   10.0             ถ้า/ฝน/ตก/หิ/มะ/ตก/คึ/สิ/บ่/ได้/ออก/ไป   \n",
       "10  11.0  ปี/ที่/แล้ว/ออก/ไป/เบิ่ง/เขา/จุด/พุ/มัน/เป็น/ฝ...   \n",
       "11  12.0                        เพิ่น/ก้ม/แบบ/คน/เมา/นะ/จ้ะ   \n",
       "12  13.0  ก้ม/ก้ม/ส่อง/พุ/เพิ่น/จุด/ละ/เพิ่น/กะ/ก้ม/ส่อง...   \n",
       "13  14.0            เพิ่น/สิ/โซ/กล้าม/เพิ่น/หั่น/นะ/พี่น้อง   \n",
       "14  15.0  โอ/เค/จ้า/สุผู้สุคน/มื้อ/นี้/จั่ง/ใด๋/กะ/ขอบ/ค...   \n",
       "15  16.0  จ้า/พ้อ/กัน/ใหม่/ใน/คลิป/วิ/ดี/โอ/หน้า/สวัสดี/...   \n",
       "16   NaN                                                NaN   \n",
       "\n",
       "                                              ภาษาไทย     เริ่ม        จบ  \\\n",
       "0                               สวัสดี/ทุก ๆ คน/นะ/คะ  00:00:16  00:00:18   \n",
       "1           กิน/ข้าว/ก่อน/นะ/จ้ะ/ใคร/จะ/รอ/เค้า/ดาวน์  00:02:14  00:02:18   \n",
       "2   เค้า/ดาวน์/ก็/ขอ/ให้/เค้า/ดาน์/อย่าง/มี/ความ/ส...  00:02:21  00:02:25   \n",
       "3   นี่/จ้า/อา/หาร/เย็น/เป็น/ลา/ซาน/ย่า/กับ/ผัก/สด...  00:02:33  00:02:37   \n",
       "4                         ขอ/ให้/เชิญ/อร่อย/นะ/ทุก/คน  00:02:38  00:02:41   \n",
       "5           แมท/ธิว/บอก/ว่า/คุณ/แม่/อย่า/พึ่ง/หลับ/นะ  00:03:08  00:03:08   \n",
       "6                                         เงียบ/มาก ๆ  00:09:51  00:09:53   \n",
       "7            ไม่/มี/ความ/รื่น/เริง/อะ/ไร/เลย/ด้าน/นอก  00:10:07  00:10:11   \n",
       "8                  วัน/นี้/จะ/ดู/พุ/ตอน/หก/ทุ่ม/นะ/คะ  00:10:29  00:10:33   \n",
       "9             ถ้า/ฝน/ตก/หิ/มะ/ตก/คง/จะ/ไม่/ได้/ออก/ไป  00:10:40  00:10:43   \n",
       "10  ปี/ที่/แล้ว/ออก/ไป/ดู/เขา/จุด/พุ/มัน/เป็น/ฝน/ห...  00:10:52  00:10:56   \n",
       "11                         เขา/ก้ม/แบบ/คน/เมา/อ่ะ/ค่ะ  00:11:09  00:11:12   \n",
       "12  ก้ม/ก้ม/ส่อง/พุ/เขา/จุด/ละ/เขา/ก็/ก้ม/ส่อง/เขา...  00:11:14  00:11:18   \n",
       "13              เขา/จะ/โชว์/กล้าม/เขา/นั่น/แหละ/ทุกคน  00:13:11  00:13:13   \n",
       "14  โอ/เค/จ้า/ทุก ๆ  คน/วัน/นี้/ยัง/ไง/ก็/ขอบ/คุณ/...  00:15:23  00:15:26   \n",
       "15  จ้า/เจอ/กัน/ใหม่/ใน/คลิป/วิ/ดี/โอ/หน้า/สวัสดี/...  00:15:30  00:15:33   \n",
       "16                                                NaN       NaN       NaN   \n",
       "\n",
       "    จบ-เริ่ม                                                G2P  \n",
       "0   00:00:02  s-a-z^-1 w-a-t^-1 d-ii-z^-0 *s-u-z^-1 *ph-uu-z...  \n",
       "1   00:00:04  k-i-n^-0 *kh-aa-w^-2 *k-@@-n^-1 *d-qq-z^-2 *c-...  \n",
       "2   00:00:04  kh-a-w^-3 *d-aa-w^-0 *k-a-z^-1 *kh-@@-z^-4 *h-...  \n",
       "3   00:00:04  n-ii-z^-2 *c-aa-z^-2 *z-aa-z^-0 *h-aa-n^-4 *j-...  \n",
       "4   00:00:03  kh-@@-z^-4 *h-a-j^-2 *ch-qq-n^-0 *s-xx-p^-2 *d...  \n",
       "5   00:00:00  m-xx-t^-1 *th-i-w^-0 *b-@@-k^-1 *w-aa-z^-2 *z-...  \n",
       "6   00:00:02                  ng-iia-p^-2 *h-xx-ng^-0 *c-a-t^-1  \n",
       "7   00:00:04  b-@@-z^-1 *m-ii-z^-0 *khw-aa-m^-0 *r-vv-n^-2 *...  \n",
       "8   00:00:04  m-vv-z^-3 *n-ii-z^-3 *s-i-z^-1 *b-q-ng^-1 *ph-...  \n",
       "9   00:00:03  th-aa-z^-2 *f-o-n^-4 *t-o-k^-1 *h-i-z^-1 *m-a-...  \n",
       "10  00:00:04  p-ii-z^-0 *th-ii-z^-2 *l-xx-w^-3 *z-@@-k^-1 *p...  \n",
       "11  00:00:03  ph-qq-n^-2 *k-o-m^-3 *b-xx-p^-1 *kh-o-n^-0 *m-...  \n",
       "12  00:00:04  k-o-m^-3 *k-o-m^-3 *s-@-ng^-1 *ph-u-z^-3 *ph-q...  \n",
       "13  00:00:02  ph-qq-n^-2 *s-i-z^-1 *s-oo-z^-0 *kl-aa-m^-2 *p...  \n",
       "14  00:00:03  z-oo-z^-0 *kh-ee-z^-0 *c-aa-z^-2\\n*s-u-z^-1 *p...  \n",
       "15  00:00:03  c-aa-z^-2 *ph-@@-z^-3 *k-a-n^-0 *m-a-j^-1 *n-a...  \n",
       "16  00:00:49                                                NaN  "
      ]
     },
     "execution_count": 3,
     "metadata": {},
     "output_type": "execute_result"
    }
   ],
   "source": [
    "df"
   ]
  },
  {
   "cell_type": "code",
   "execution_count": 5,
   "metadata": {},
   "outputs": [],
   "source": [
    "df = df.dropna()"
   ]
  },
  {
   "cell_type": "code",
   "execution_count": 6,
   "metadata": {},
   "outputs": [
    {
     "data": {
      "text/plain": [
       "'สวัสดี สุผู้สุคน เด้อ จ้า'"
      ]
     },
     "execution_count": 6,
     "metadata": {},
     "output_type": "execute_result"
    }
   ],
   "source": [
    "df.iloc[0,1].replace(\"/\", \" \")"
   ]
  },
  {
   "cell_type": "code",
   "execution_count": 7,
   "metadata": {},
   "outputs": [
    {
     "data": {
      "text/html": [
       "<div>\n",
       "<style scoped>\n",
       "    .dataframe tbody tr th:only-of-type {\n",
       "        vertical-align: middle;\n",
       "    }\n",
       "\n",
       "    .dataframe tbody tr th {\n",
       "        vertical-align: top;\n",
       "    }\n",
       "\n",
       "    .dataframe thead th {\n",
       "        text-align: right;\n",
       "    }\n",
       "</style>\n",
       "<table border=\"1\" class=\"dataframe\">\n",
       "  <thead>\n",
       "    <tr style=\"text-align: right;\">\n",
       "      <th></th>\n",
       "      <th>No</th>\n",
       "      <th>ภาษาอีสาน</th>\n",
       "      <th>ภาษาไทย</th>\n",
       "      <th>เริ่ม</th>\n",
       "      <th>จบ</th>\n",
       "      <th>จบ-เริ่ม</th>\n",
       "      <th>G2P</th>\n",
       "    </tr>\n",
       "  </thead>\n",
       "  <tbody>\n",
       "    <tr>\n",
       "      <th>0</th>\n",
       "      <td>1.0</td>\n",
       "      <td>สวัสดี/สุผู้สุคน/เด้อ/จ้า</td>\n",
       "      <td>สวัสดี/ทุก ๆ คน/นะ/คะ</td>\n",
       "      <td>00:00:16</td>\n",
       "      <td>00:00:18</td>\n",
       "      <td>00:00:02</td>\n",
       "      <td>s-a-z^-1 w-a-t^-1 d-ii-z^-0 *s-u-z^-1 *ph-uu-z...</td>\n",
       "    </tr>\n",
       "    <tr>\n",
       "      <th>1</th>\n",
       "      <td>2.0</td>\n",
       "      <td>กิน/ข้าว/ก่อน/เด้อ/จ้า/ ไผ/สิ/ถ่า/เค้า/ดาวน์</td>\n",
       "      <td>กิน/ข้าว/ก่อน/นะ/จ้ะ/ใคร/จะ/รอ/เค้า/ดาวน์</td>\n",
       "      <td>00:02:14</td>\n",
       "      <td>00:02:18</td>\n",
       "      <td>00:00:04</td>\n",
       "      <td>k-i-n^-0 *kh-aa-w^-2 *k-@@-n^-1 *d-qq-z^-2 *c-...</td>\n",
       "    </tr>\n",
       "    <tr>\n",
       "      <th>2</th>\n",
       "      <td>3.0</td>\n",
       "      <td>เค้า/ดาว/กะ/ขอ/ให้/เค้า/ดาว/อย่าง/มี/ความ/สุข/...</td>\n",
       "      <td>เค้า/ดาวน์/ก็/ขอ/ให้/เค้า/ดาน์/อย่าง/มี/ความ/ส...</td>\n",
       "      <td>00:02:21</td>\n",
       "      <td>00:02:25</td>\n",
       "      <td>00:00:04</td>\n",
       "      <td>kh-a-w^-3 *d-aa-w^-0 *k-a-z^-1 *kh-@@-z^-4 *h-...</td>\n",
       "    </tr>\n",
       "    <tr>\n",
       "      <th>3</th>\n",
       "      <td>4.0</td>\n",
       "      <td>นี่/จ้า/อา/หาร/เย็น/เป็น/ลา/ซาน/ย่า/กับ/ผัก/สด...</td>\n",
       "      <td>นี่/จ้า/อา/หาร/เย็น/เป็น/ลา/ซาน/ย่า/กับ/ผัก/สด...</td>\n",
       "      <td>00:02:33</td>\n",
       "      <td>00:02:37</td>\n",
       "      <td>00:00:04</td>\n",
       "      <td>n-ii-z^-2 *c-aa-z^-2 *z-aa-z^-0 *h-aa-n^-4 *j-...</td>\n",
       "    </tr>\n",
       "    <tr>\n",
       "      <th>4</th>\n",
       "      <td>5.0</td>\n",
       "      <td>ขอ/ให้/เชิญ/แซ่บ/เด้อ/พี่/น้อง</td>\n",
       "      <td>ขอ/ให้/เชิญ/อร่อย/นะ/ทุก/คน</td>\n",
       "      <td>00:02:38</td>\n",
       "      <td>00:02:41</td>\n",
       "      <td>00:00:03</td>\n",
       "      <td>kh-@@-z^-4 *h-a-j^-2 *ch-qq-n^-0 *s-xx-p^-2 *d...</td>\n",
       "    </tr>\n",
       "    <tr>\n",
       "      <th>5</th>\n",
       "      <td>6.0</td>\n",
       "      <td>แมท/ธิว/บอก/ว่า/อี/แม่/อย่า/พึ่ง/หลับ/เด้อ</td>\n",
       "      <td>แมท/ธิว/บอก/ว่า/คุณ/แม่/อย่า/พึ่ง/หลับ/นะ</td>\n",
       "      <td>00:03:08</td>\n",
       "      <td>00:03:08</td>\n",
       "      <td>00:00:00</td>\n",
       "      <td>m-xx-t^-1 *th-i-w^-0 *b-@@-k^-1 *w-aa-z^-2 *z-...</td>\n",
       "    </tr>\n",
       "    <tr>\n",
       "      <th>6</th>\n",
       "      <td>7.0</td>\n",
       "      <td>เงียบ/แฮงจัด</td>\n",
       "      <td>เงียบ/มาก ๆ</td>\n",
       "      <td>00:09:51</td>\n",
       "      <td>00:09:53</td>\n",
       "      <td>00:00:02</td>\n",
       "      <td>ng-iia-p^-2 *h-xx-ng^-0 *c-a-t^-1</td>\n",
       "    </tr>\n",
       "    <tr>\n",
       "      <th>7</th>\n",
       "      <td>8.0</td>\n",
       "      <td>บ่/มี/ความ/รื่น/เริง/อี/หยัง/เลย/ข้าง/นอก</td>\n",
       "      <td>ไม่/มี/ความ/รื่น/เริง/อะ/ไร/เลย/ด้าน/นอก</td>\n",
       "      <td>00:10:07</td>\n",
       "      <td>00:10:11</td>\n",
       "      <td>00:00:04</td>\n",
       "      <td>b-@@-z^-1 *m-ii-z^-0 *khw-aa-m^-0 *r-vv-n^-2 *...</td>\n",
       "    </tr>\n",
       "    <tr>\n",
       "      <th>8</th>\n",
       "      <td>9.0</td>\n",
       "      <td>มื้อ/นี้/สิ/เบิ่ง/พุ/ตอน/หก/ทุ่ม/จ่ะ</td>\n",
       "      <td>วัน/นี้/จะ/ดู/พุ/ตอน/หก/ทุ่ม/นะ/คะ</td>\n",
       "      <td>00:10:29</td>\n",
       "      <td>00:10:33</td>\n",
       "      <td>00:00:04</td>\n",
       "      <td>m-vv-z^-3 *n-ii-z^-3 *s-i-z^-1 *b-q-ng^-1 *ph-...</td>\n",
       "    </tr>\n",
       "    <tr>\n",
       "      <th>9</th>\n",
       "      <td>10.0</td>\n",
       "      <td>ถ้า/ฝน/ตก/หิ/มะ/ตก/คึ/สิ/บ่/ได้/ออก/ไป</td>\n",
       "      <td>ถ้า/ฝน/ตก/หิ/มะ/ตก/คง/จะ/ไม่/ได้/ออก/ไป</td>\n",
       "      <td>00:10:40</td>\n",
       "      <td>00:10:43</td>\n",
       "      <td>00:00:03</td>\n",
       "      <td>th-aa-z^-2 *f-o-n^-4 *t-o-k^-1 *h-i-z^-1 *m-a-...</td>\n",
       "    </tr>\n",
       "    <tr>\n",
       "      <th>10</th>\n",
       "      <td>11.0</td>\n",
       "      <td>ปี/ที่/แล้ว/ออก/ไป/เบิ่ง/เขา/จุด/พุ/มัน/เป็น/ฝ...</td>\n",
       "      <td>ปี/ที่/แล้ว/ออก/ไป/ดู/เขา/จุด/พุ/มัน/เป็น/ฝน/ห...</td>\n",
       "      <td>00:10:52</td>\n",
       "      <td>00:10:56</td>\n",
       "      <td>00:00:04</td>\n",
       "      <td>p-ii-z^-0 *th-ii-z^-2 *l-xx-w^-3 *z-@@-k^-1 *p...</td>\n",
       "    </tr>\n",
       "    <tr>\n",
       "      <th>11</th>\n",
       "      <td>12.0</td>\n",
       "      <td>เพิ่น/ก้ม/แบบ/คน/เมา/นะ/จ้ะ</td>\n",
       "      <td>เขา/ก้ม/แบบ/คน/เมา/อ่ะ/ค่ะ</td>\n",
       "      <td>00:11:09</td>\n",
       "      <td>00:11:12</td>\n",
       "      <td>00:00:03</td>\n",
       "      <td>ph-qq-n^-2 *k-o-m^-3 *b-xx-p^-1 *kh-o-n^-0 *m-...</td>\n",
       "    </tr>\n",
       "    <tr>\n",
       "      <th>12</th>\n",
       "      <td>13.0</td>\n",
       "      <td>ก้ม/ก้ม/ส่อง/พุ/เพิ่น/จุด/ละ/เพิ่น/กะ/ก้ม/ส่อง...</td>\n",
       "      <td>ก้ม/ก้ม/ส่อง/พุ/เขา/จุด/ละ/เขา/ก็/ก้ม/ส่อง/เขา...</td>\n",
       "      <td>00:11:14</td>\n",
       "      <td>00:11:18</td>\n",
       "      <td>00:00:04</td>\n",
       "      <td>k-o-m^-3 *k-o-m^-3 *s-@-ng^-1 *ph-u-z^-3 *ph-q...</td>\n",
       "    </tr>\n",
       "    <tr>\n",
       "      <th>13</th>\n",
       "      <td>14.0</td>\n",
       "      <td>เพิ่น/สิ/โซ/กล้าม/เพิ่น/หั่น/นะ/พี่น้อง</td>\n",
       "      <td>เขา/จะ/โชว์/กล้าม/เขา/นั่น/แหละ/ทุกคน</td>\n",
       "      <td>00:13:11</td>\n",
       "      <td>00:13:13</td>\n",
       "      <td>00:00:02</td>\n",
       "      <td>ph-qq-n^-2 *s-i-z^-1 *s-oo-z^-0 *kl-aa-m^-2 *p...</td>\n",
       "    </tr>\n",
       "    <tr>\n",
       "      <th>14</th>\n",
       "      <td>15.0</td>\n",
       "      <td>โอ/เค/จ้า/สุผู้สุคน/มื้อ/นี้/จั่ง/ใด๋/กะ/ขอบ/ค...</td>\n",
       "      <td>โอ/เค/จ้า/ทุก ๆ  คน/วัน/นี้/ยัง/ไง/ก็/ขอบ/คุณ/...</td>\n",
       "      <td>00:15:23</td>\n",
       "      <td>00:15:26</td>\n",
       "      <td>00:00:03</td>\n",
       "      <td>z-oo-z^-0 *kh-ee-z^-0 *c-aa-z^-2\\n*s-u-z^-1 *p...</td>\n",
       "    </tr>\n",
       "    <tr>\n",
       "      <th>15</th>\n",
       "      <td>16.0</td>\n",
       "      <td>จ้า/พ้อ/กัน/ใหม่/ใน/คลิป/วิ/ดี/โอ/หน้า/สวัสดี/...</td>\n",
       "      <td>จ้า/เจอ/กัน/ใหม่/ใน/คลิป/วิ/ดี/โอ/หน้า/สวัสดี/...</td>\n",
       "      <td>00:15:30</td>\n",
       "      <td>00:15:33</td>\n",
       "      <td>00:00:03</td>\n",
       "      <td>c-aa-z^-2 *ph-@@-z^-3 *k-a-n^-0 *m-a-j^-1 *n-a...</td>\n",
       "    </tr>\n",
       "  </tbody>\n",
       "</table>\n",
       "</div>"
      ],
      "text/plain": [
       "      No                                          ภาษาอีสาน  \\\n",
       "0    1.0                          สวัสดี/สุผู้สุคน/เด้อ/จ้า   \n",
       "1    2.0       กิน/ข้าว/ก่อน/เด้อ/จ้า/ ไผ/สิ/ถ่า/เค้า/ดาวน์   \n",
       "2    3.0  เค้า/ดาว/กะ/ขอ/ให้/เค้า/ดาว/อย่าง/มี/ความ/สุข/...   \n",
       "3    4.0  นี่/จ้า/อา/หาร/เย็น/เป็น/ลา/ซาน/ย่า/กับ/ผัก/สด...   \n",
       "4    5.0                     ขอ/ให้/เชิญ/แซ่บ/เด้อ/พี่/น้อง   \n",
       "5    6.0         แมท/ธิว/บอก/ว่า/อี/แม่/อย่า/พึ่ง/หลับ/เด้อ   \n",
       "6    7.0                                       เงียบ/แฮงจัด   \n",
       "7    8.0          บ่/มี/ความ/รื่น/เริง/อี/หยัง/เลย/ข้าง/นอก   \n",
       "8    9.0               มื้อ/นี้/สิ/เบิ่ง/พุ/ตอน/หก/ทุ่ม/จ่ะ   \n",
       "9   10.0             ถ้า/ฝน/ตก/หิ/มะ/ตก/คึ/สิ/บ่/ได้/ออก/ไป   \n",
       "10  11.0  ปี/ที่/แล้ว/ออก/ไป/เบิ่ง/เขา/จุด/พุ/มัน/เป็น/ฝ...   \n",
       "11  12.0                        เพิ่น/ก้ม/แบบ/คน/เมา/นะ/จ้ะ   \n",
       "12  13.0  ก้ม/ก้ม/ส่อง/พุ/เพิ่น/จุด/ละ/เพิ่น/กะ/ก้ม/ส่อง...   \n",
       "13  14.0            เพิ่น/สิ/โซ/กล้าม/เพิ่น/หั่น/นะ/พี่น้อง   \n",
       "14  15.0  โอ/เค/จ้า/สุผู้สุคน/มื้อ/นี้/จั่ง/ใด๋/กะ/ขอบ/ค...   \n",
       "15  16.0  จ้า/พ้อ/กัน/ใหม่/ใน/คลิป/วิ/ดี/โอ/หน้า/สวัสดี/...   \n",
       "\n",
       "                                              ภาษาไทย     เริ่ม        จบ  \\\n",
       "0                               สวัสดี/ทุก ๆ คน/นะ/คะ  00:00:16  00:00:18   \n",
       "1           กิน/ข้าว/ก่อน/นะ/จ้ะ/ใคร/จะ/รอ/เค้า/ดาวน์  00:02:14  00:02:18   \n",
       "2   เค้า/ดาวน์/ก็/ขอ/ให้/เค้า/ดาน์/อย่าง/มี/ความ/ส...  00:02:21  00:02:25   \n",
       "3   นี่/จ้า/อา/หาร/เย็น/เป็น/ลา/ซาน/ย่า/กับ/ผัก/สด...  00:02:33  00:02:37   \n",
       "4                         ขอ/ให้/เชิญ/อร่อย/นะ/ทุก/คน  00:02:38  00:02:41   \n",
       "5           แมท/ธิว/บอก/ว่า/คุณ/แม่/อย่า/พึ่ง/หลับ/นะ  00:03:08  00:03:08   \n",
       "6                                         เงียบ/มาก ๆ  00:09:51  00:09:53   \n",
       "7            ไม่/มี/ความ/รื่น/เริง/อะ/ไร/เลย/ด้าน/นอก  00:10:07  00:10:11   \n",
       "8                  วัน/นี้/จะ/ดู/พุ/ตอน/หก/ทุ่ม/นะ/คะ  00:10:29  00:10:33   \n",
       "9             ถ้า/ฝน/ตก/หิ/มะ/ตก/คง/จะ/ไม่/ได้/ออก/ไป  00:10:40  00:10:43   \n",
       "10  ปี/ที่/แล้ว/ออก/ไป/ดู/เขา/จุด/พุ/มัน/เป็น/ฝน/ห...  00:10:52  00:10:56   \n",
       "11                         เขา/ก้ม/แบบ/คน/เมา/อ่ะ/ค่ะ  00:11:09  00:11:12   \n",
       "12  ก้ม/ก้ม/ส่อง/พุ/เขา/จุด/ละ/เขา/ก็/ก้ม/ส่อง/เขา...  00:11:14  00:11:18   \n",
       "13              เขา/จะ/โชว์/กล้าม/เขา/นั่น/แหละ/ทุกคน  00:13:11  00:13:13   \n",
       "14  โอ/เค/จ้า/ทุก ๆ  คน/วัน/นี้/ยัง/ไง/ก็/ขอบ/คุณ/...  00:15:23  00:15:26   \n",
       "15  จ้า/เจอ/กัน/ใหม่/ใน/คลิป/วิ/ดี/โอ/หน้า/สวัสดี/...  00:15:30  00:15:33   \n",
       "\n",
       "    จบ-เริ่ม                                                G2P  \n",
       "0   00:00:02  s-a-z^-1 w-a-t^-1 d-ii-z^-0 *s-u-z^-1 *ph-uu-z...  \n",
       "1   00:00:04  k-i-n^-0 *kh-aa-w^-2 *k-@@-n^-1 *d-qq-z^-2 *c-...  \n",
       "2   00:00:04  kh-a-w^-3 *d-aa-w^-0 *k-a-z^-1 *kh-@@-z^-4 *h-...  \n",
       "3   00:00:04  n-ii-z^-2 *c-aa-z^-2 *z-aa-z^-0 *h-aa-n^-4 *j-...  \n",
       "4   00:00:03  kh-@@-z^-4 *h-a-j^-2 *ch-qq-n^-0 *s-xx-p^-2 *d...  \n",
       "5   00:00:00  m-xx-t^-1 *th-i-w^-0 *b-@@-k^-1 *w-aa-z^-2 *z-...  \n",
       "6   00:00:02                  ng-iia-p^-2 *h-xx-ng^-0 *c-a-t^-1  \n",
       "7   00:00:04  b-@@-z^-1 *m-ii-z^-0 *khw-aa-m^-0 *r-vv-n^-2 *...  \n",
       "8   00:00:04  m-vv-z^-3 *n-ii-z^-3 *s-i-z^-1 *b-q-ng^-1 *ph-...  \n",
       "9   00:00:03  th-aa-z^-2 *f-o-n^-4 *t-o-k^-1 *h-i-z^-1 *m-a-...  \n",
       "10  00:00:04  p-ii-z^-0 *th-ii-z^-2 *l-xx-w^-3 *z-@@-k^-1 *p...  \n",
       "11  00:00:03  ph-qq-n^-2 *k-o-m^-3 *b-xx-p^-1 *kh-o-n^-0 *m-...  \n",
       "12  00:00:04  k-o-m^-3 *k-o-m^-3 *s-@-ng^-1 *ph-u-z^-3 *ph-q...  \n",
       "13  00:00:02  ph-qq-n^-2 *s-i-z^-1 *s-oo-z^-0 *kl-aa-m^-2 *p...  \n",
       "14  00:00:03  z-oo-z^-0 *kh-ee-z^-0 *c-aa-z^-2\\n*s-u-z^-1 *p...  \n",
       "15  00:00:03  c-aa-z^-2 *ph-@@-z^-3 *k-a-n^-0 *m-a-j^-1 *n-a...  "
      ]
     },
     "execution_count": 7,
     "metadata": {},
     "output_type": "execute_result"
    }
   ],
   "source": [
    "df"
   ]
  },
  {
   "cell_type": "code",
   "execution_count": 8,
   "metadata": {},
   "outputs": [],
   "source": [
    "def replacestr(col1):\n",
    "    co1 = col1.replace(\"/\", \" \")\n",
    "    return co1"
   ]
  },
  {
   "cell_type": "code",
   "execution_count": 9,
   "metadata": {},
   "outputs": [
    {
     "data": {
      "text/plain": [
       "'สวัสดี สุผู้สุคน เด้อ จ้า'"
      ]
     },
     "execution_count": 9,
     "metadata": {},
     "output_type": "execute_result"
    }
   ],
   "source": [
    "replacestr(df.iloc[0,1])"
   ]
  },
  {
   "cell_type": "code",
   "execution_count": 10,
   "metadata": {},
   "outputs": [],
   "source": [
    "list_1 = []\n",
    "list_2 = []\n",
    "for i in range(len(df)):\n",
    "    list_1.append(replacestr(df.iloc[i,1]))\n",
    "    list_2.append(replacestr(df.iloc[i,2]))"
   ]
  },
  {
   "cell_type": "code",
   "execution_count": 11,
   "metadata": {
    "collapsed": true
   },
   "outputs": [
    {
     "data": {
      "text/plain": [
       "['สวัสดี สุผู้สุคน เด้อ จ้า',\n",
       " 'กิน ข้าว ก่อน เด้อ จ้า  ไผ สิ ถ่า เค้า ดาวน์',\n",
       " 'เค้า ดาว กะ ขอ ให้ เค้า ดาว อย่าง มี ความ สุข นะ จ้ะ',\n",
       " 'นี่ จ้า อา หาร เย็น เป็น ลา ซาน ย่า กับ ผัก สด เด้อ จ้า',\n",
       " 'ขอ ให้ เชิญ แซ่บ เด้อ พี่ น้อง',\n",
       " 'แมท ธิว บอก ว่า อี แม่ อย่า พึ่ง หลับ เด้อ',\n",
       " 'เงียบ แฮงจัด',\n",
       " 'บ่ มี ความ รื่น เริง อี หยัง เลย ข้าง นอก',\n",
       " 'มื้อ นี้ สิ เบิ่ง พุ ตอน หก ทุ่ม จ่ะ',\n",
       " 'ถ้า ฝน ตก หิ มะ ตก คึ สิ บ่ ได้ ออก ไป',\n",
       " 'ปี ที่ แล้ว ออก ไป เบิ่ง เขา จุด พุ มัน เป็น ฝน หิ มะ นะ จ่ะ',\n",
       " 'เพิ่น ก้ม แบบ คน เมา นะ จ้ะ',\n",
       " 'ก้ม ก้ม ส่อง พุ เพิ่น จุด ละ เพิ่น กะ ก้ม ส่อง เพิ่น บ่ เงย หน้า ขึ้น หั่น นะ',\n",
       " 'เพิ่น สิ โซ กล้าม เพิ่น หั่น นะ พี่น้อง',\n",
       " 'โอ เค จ้า สุผู้สุคน มื้อ นี้ จั่ง ใด๋ กะ ขอบ คุณ สุผู้สุคน ที่ แวะ เวียน เข้า มา ทัก ทาย กับ ครัว คุณ สม บูรณ์',\n",
       " 'จ้า พ้อ กัน ใหม่ ใน คลิป วิ ดี โอ หน้า สวัสดี ปี ใหม่ บ้าย บาย จ้า']"
      ]
     },
     "execution_count": 11,
     "metadata": {},
     "output_type": "execute_result"
    }
   ],
   "source": [
    "list_1"
   ]
  },
  {
   "cell_type": "code",
   "execution_count": 14,
   "metadata": {
    "collapsed": true
   },
   "outputs": [
    {
     "name": "stderr",
     "output_type": "stream",
     "text": [
      "C:\\Users\\Minny\\Miniconda3\\lib\\site-packages\\ipykernel_launcher.py:1: SettingWithCopyWarning: \n",
      "A value is trying to be set on a copy of a slice from a DataFrame.\n",
      "Try using .loc[row_indexer,col_indexer] = value instead\n",
      "\n",
      "See the caveats in the documentation: http://pandas.pydata.org/pandas-docs/stable/user_guide/indexing.html#returning-a-view-versus-a-copy\n",
      "  \"\"\"Entry point for launching an IPython kernel.\n",
      "C:\\Users\\Minny\\Miniconda3\\lib\\site-packages\\ipykernel_launcher.py:2: SettingWithCopyWarning: \n",
      "A value is trying to be set on a copy of a slice from a DataFrame.\n",
      "Try using .loc[row_indexer,col_indexer] = value instead\n",
      "\n",
      "See the caveats in the documentation: http://pandas.pydata.org/pandas-docs/stable/user_guide/indexing.html#returning-a-view-versus-a-copy\n",
      "  \n"
     ]
    }
   ],
   "source": [
    "df['ภาษาอีสานใหม่'] = list_1\n",
    "df['ภาษาไทยใหม่'] = list_2"
   ]
  },
  {
   "cell_type": "code",
   "execution_count": 15,
   "metadata": {},
   "outputs": [
    {
     "data": {
      "text/html": [
       "<div>\n",
       "<style scoped>\n",
       "    .dataframe tbody tr th:only-of-type {\n",
       "        vertical-align: middle;\n",
       "    }\n",
       "\n",
       "    .dataframe tbody tr th {\n",
       "        vertical-align: top;\n",
       "    }\n",
       "\n",
       "    .dataframe thead th {\n",
       "        text-align: right;\n",
       "    }\n",
       "</style>\n",
       "<table border=\"1\" class=\"dataframe\">\n",
       "  <thead>\n",
       "    <tr style=\"text-align: right;\">\n",
       "      <th></th>\n",
       "      <th>No</th>\n",
       "      <th>ภาษาอีสาน</th>\n",
       "      <th>ภาษาไทย</th>\n",
       "      <th>เริ่ม</th>\n",
       "      <th>จบ</th>\n",
       "      <th>จบ-เริ่ม</th>\n",
       "      <th>G2P</th>\n",
       "      <th>ภาษาอีสานใหม่</th>\n",
       "      <th>ภาษาไทยใหม่</th>\n",
       "    </tr>\n",
       "  </thead>\n",
       "  <tbody>\n",
       "    <tr>\n",
       "      <th>0</th>\n",
       "      <td>1.0</td>\n",
       "      <td>สวัสดี/สุผู้สุคน/เด้อ/จ้า</td>\n",
       "      <td>สวัสดี/ทุก ๆ คน/นะ/คะ</td>\n",
       "      <td>00:00:16</td>\n",
       "      <td>00:00:18</td>\n",
       "      <td>00:00:02</td>\n",
       "      <td>s-a-z^-1 w-a-t^-1 d-ii-z^-0 *s-u-z^-1 *ph-uu-z...</td>\n",
       "      <td>สวัสดี สุผู้สุคน เด้อ จ้า</td>\n",
       "      <td>สวัสดี ทุก ๆ คน นะ คะ</td>\n",
       "    </tr>\n",
       "    <tr>\n",
       "      <th>1</th>\n",
       "      <td>2.0</td>\n",
       "      <td>กิน/ข้าว/ก่อน/เด้อ/จ้า/ ไผ/สิ/ถ่า/เค้า/ดาวน์</td>\n",
       "      <td>กิน/ข้าว/ก่อน/นะ/จ้ะ/ใคร/จะ/รอ/เค้า/ดาวน์</td>\n",
       "      <td>00:02:14</td>\n",
       "      <td>00:02:18</td>\n",
       "      <td>00:00:04</td>\n",
       "      <td>k-i-n^-0 *kh-aa-w^-2 *k-@@-n^-1 *d-qq-z^-2 *c-...</td>\n",
       "      <td>กิน ข้าว ก่อน เด้อ จ้า  ไผ สิ ถ่า เค้า ดาวน์</td>\n",
       "      <td>กิน ข้าว ก่อน นะ จ้ะ ใคร จะ รอ เค้า ดาวน์</td>\n",
       "    </tr>\n",
       "    <tr>\n",
       "      <th>2</th>\n",
       "      <td>3.0</td>\n",
       "      <td>เค้า/ดาว/กะ/ขอ/ให้/เค้า/ดาว/อย่าง/มี/ความ/สุข/...</td>\n",
       "      <td>เค้า/ดาวน์/ก็/ขอ/ให้/เค้า/ดาน์/อย่าง/มี/ความ/ส...</td>\n",
       "      <td>00:02:21</td>\n",
       "      <td>00:02:25</td>\n",
       "      <td>00:00:04</td>\n",
       "      <td>kh-a-w^-3 *d-aa-w^-0 *k-a-z^-1 *kh-@@-z^-4 *h-...</td>\n",
       "      <td>เค้า ดาว กะ ขอ ให้ เค้า ดาว อย่าง มี ความ สุข ...</td>\n",
       "      <td>เค้า ดาวน์ ก็ ขอ ให้ เค้า ดาน์ อย่าง มี ความ ส...</td>\n",
       "    </tr>\n",
       "    <tr>\n",
       "      <th>3</th>\n",
       "      <td>4.0</td>\n",
       "      <td>นี่/จ้า/อา/หาร/เย็น/เป็น/ลา/ซาน/ย่า/กับ/ผัก/สด...</td>\n",
       "      <td>นี่/จ้า/อา/หาร/เย็น/เป็น/ลา/ซาน/ย่า/กับ/ผัก/สด...</td>\n",
       "      <td>00:02:33</td>\n",
       "      <td>00:02:37</td>\n",
       "      <td>00:00:04</td>\n",
       "      <td>n-ii-z^-2 *c-aa-z^-2 *z-aa-z^-0 *h-aa-n^-4 *j-...</td>\n",
       "      <td>นี่ จ้า อา หาร เย็น เป็น ลา ซาน ย่า กับ ผัก สด...</td>\n",
       "      <td>นี่ จ้า อา หาร เย็น เป็น ลา ซาน ย่า กับ ผัก สด...</td>\n",
       "    </tr>\n",
       "    <tr>\n",
       "      <th>4</th>\n",
       "      <td>5.0</td>\n",
       "      <td>ขอ/ให้/เชิญ/แซ่บ/เด้อ/พี่/น้อง</td>\n",
       "      <td>ขอ/ให้/เชิญ/อร่อย/นะ/ทุก/คน</td>\n",
       "      <td>00:02:38</td>\n",
       "      <td>00:02:41</td>\n",
       "      <td>00:00:03</td>\n",
       "      <td>kh-@@-z^-4 *h-a-j^-2 *ch-qq-n^-0 *s-xx-p^-2 *d...</td>\n",
       "      <td>ขอ ให้ เชิญ แซ่บ เด้อ พี่ น้อง</td>\n",
       "      <td>ขอ ให้ เชิญ อร่อย นะ ทุก คน</td>\n",
       "    </tr>\n",
       "    <tr>\n",
       "      <th>5</th>\n",
       "      <td>6.0</td>\n",
       "      <td>แมท/ธิว/บอก/ว่า/อี/แม่/อย่า/พึ่ง/หลับ/เด้อ</td>\n",
       "      <td>แมท/ธิว/บอก/ว่า/คุณ/แม่/อย่า/พึ่ง/หลับ/นะ</td>\n",
       "      <td>00:03:08</td>\n",
       "      <td>00:03:08</td>\n",
       "      <td>00:00:00</td>\n",
       "      <td>m-xx-t^-1 *th-i-w^-0 *b-@@-k^-1 *w-aa-z^-2 *z-...</td>\n",
       "      <td>แมท ธิว บอก ว่า อี แม่ อย่า พึ่ง หลับ เด้อ</td>\n",
       "      <td>แมท ธิว บอก ว่า คุณ แม่ อย่า พึ่ง หลับ นะ</td>\n",
       "    </tr>\n",
       "    <tr>\n",
       "      <th>6</th>\n",
       "      <td>7.0</td>\n",
       "      <td>เงียบ/แฮงจัด</td>\n",
       "      <td>เงียบ/มาก ๆ</td>\n",
       "      <td>00:09:51</td>\n",
       "      <td>00:09:53</td>\n",
       "      <td>00:00:02</td>\n",
       "      <td>ng-iia-p^-2 *h-xx-ng^-0 *c-a-t^-1</td>\n",
       "      <td>เงียบ แฮงจัด</td>\n",
       "      <td>เงียบ มาก ๆ</td>\n",
       "    </tr>\n",
       "    <tr>\n",
       "      <th>7</th>\n",
       "      <td>8.0</td>\n",
       "      <td>บ่/มี/ความ/รื่น/เริง/อี/หยัง/เลย/ข้าง/นอก</td>\n",
       "      <td>ไม่/มี/ความ/รื่น/เริง/อะ/ไร/เลย/ด้าน/นอก</td>\n",
       "      <td>00:10:07</td>\n",
       "      <td>00:10:11</td>\n",
       "      <td>00:00:04</td>\n",
       "      <td>b-@@-z^-1 *m-ii-z^-0 *khw-aa-m^-0 *r-vv-n^-2 *...</td>\n",
       "      <td>บ่ มี ความ รื่น เริง อี หยัง เลย ข้าง นอก</td>\n",
       "      <td>ไม่ มี ความ รื่น เริง อะ ไร เลย ด้าน นอก</td>\n",
       "    </tr>\n",
       "    <tr>\n",
       "      <th>8</th>\n",
       "      <td>9.0</td>\n",
       "      <td>มื้อ/นี้/สิ/เบิ่ง/พุ/ตอน/หก/ทุ่ม/จ่ะ</td>\n",
       "      <td>วัน/นี้/จะ/ดู/พุ/ตอน/หก/ทุ่ม/นะ/คะ</td>\n",
       "      <td>00:10:29</td>\n",
       "      <td>00:10:33</td>\n",
       "      <td>00:00:04</td>\n",
       "      <td>m-vv-z^-3 *n-ii-z^-3 *s-i-z^-1 *b-q-ng^-1 *ph-...</td>\n",
       "      <td>มื้อ นี้ สิ เบิ่ง พุ ตอน หก ทุ่ม จ่ะ</td>\n",
       "      <td>วัน นี้ จะ ดู พุ ตอน หก ทุ่ม นะ คะ</td>\n",
       "    </tr>\n",
       "    <tr>\n",
       "      <th>9</th>\n",
       "      <td>10.0</td>\n",
       "      <td>ถ้า/ฝน/ตก/หิ/มะ/ตก/คึ/สิ/บ่/ได้/ออก/ไป</td>\n",
       "      <td>ถ้า/ฝน/ตก/หิ/มะ/ตก/คง/จะ/ไม่/ได้/ออก/ไป</td>\n",
       "      <td>00:10:40</td>\n",
       "      <td>00:10:43</td>\n",
       "      <td>00:00:03</td>\n",
       "      <td>th-aa-z^-2 *f-o-n^-4 *t-o-k^-1 *h-i-z^-1 *m-a-...</td>\n",
       "      <td>ถ้า ฝน ตก หิ มะ ตก คึ สิ บ่ ได้ ออก ไป</td>\n",
       "      <td>ถ้า ฝน ตก หิ มะ ตก คง จะ ไม่ ได้ ออก ไป</td>\n",
       "    </tr>\n",
       "    <tr>\n",
       "      <th>10</th>\n",
       "      <td>11.0</td>\n",
       "      <td>ปี/ที่/แล้ว/ออก/ไป/เบิ่ง/เขา/จุด/พุ/มัน/เป็น/ฝ...</td>\n",
       "      <td>ปี/ที่/แล้ว/ออก/ไป/ดู/เขา/จุด/พุ/มัน/เป็น/ฝน/ห...</td>\n",
       "      <td>00:10:52</td>\n",
       "      <td>00:10:56</td>\n",
       "      <td>00:00:04</td>\n",
       "      <td>p-ii-z^-0 *th-ii-z^-2 *l-xx-w^-3 *z-@@-k^-1 *p...</td>\n",
       "      <td>ปี ที่ แล้ว ออก ไป เบิ่ง เขา จุด พุ มัน เป็น ฝ...</td>\n",
       "      <td>ปี ที่ แล้ว ออก ไป ดู เขา จุด พุ มัน เป็น ฝน ห...</td>\n",
       "    </tr>\n",
       "    <tr>\n",
       "      <th>11</th>\n",
       "      <td>12.0</td>\n",
       "      <td>เพิ่น/ก้ม/แบบ/คน/เมา/นะ/จ้ะ</td>\n",
       "      <td>เขา/ก้ม/แบบ/คน/เมา/อ่ะ/ค่ะ</td>\n",
       "      <td>00:11:09</td>\n",
       "      <td>00:11:12</td>\n",
       "      <td>00:00:03</td>\n",
       "      <td>ph-qq-n^-2 *k-o-m^-3 *b-xx-p^-1 *kh-o-n^-0 *m-...</td>\n",
       "      <td>เพิ่น ก้ม แบบ คน เมา นะ จ้ะ</td>\n",
       "      <td>เขา ก้ม แบบ คน เมา อ่ะ ค่ะ</td>\n",
       "    </tr>\n",
       "    <tr>\n",
       "      <th>12</th>\n",
       "      <td>13.0</td>\n",
       "      <td>ก้ม/ก้ม/ส่อง/พุ/เพิ่น/จุด/ละ/เพิ่น/กะ/ก้ม/ส่อง...</td>\n",
       "      <td>ก้ม/ก้ม/ส่อง/พุ/เขา/จุด/ละ/เขา/ก็/ก้ม/ส่อง/เขา...</td>\n",
       "      <td>00:11:14</td>\n",
       "      <td>00:11:18</td>\n",
       "      <td>00:00:04</td>\n",
       "      <td>k-o-m^-3 *k-o-m^-3 *s-@-ng^-1 *ph-u-z^-3 *ph-q...</td>\n",
       "      <td>ก้ม ก้ม ส่อง พุ เพิ่น จุด ละ เพิ่น กะ ก้ม ส่อง...</td>\n",
       "      <td>ก้ม ก้ม ส่อง พุ เขา จุด ละ เขา ก็ ก้ม ส่อง เขา...</td>\n",
       "    </tr>\n",
       "    <tr>\n",
       "      <th>13</th>\n",
       "      <td>14.0</td>\n",
       "      <td>เพิ่น/สิ/โซ/กล้าม/เพิ่น/หั่น/นะ/พี่น้อง</td>\n",
       "      <td>เขา/จะ/โชว์/กล้าม/เขา/นั่น/แหละ/ทุกคน</td>\n",
       "      <td>00:13:11</td>\n",
       "      <td>00:13:13</td>\n",
       "      <td>00:00:02</td>\n",
       "      <td>ph-qq-n^-2 *s-i-z^-1 *s-oo-z^-0 *kl-aa-m^-2 *p...</td>\n",
       "      <td>เพิ่น สิ โซ กล้าม เพิ่น หั่น นะ พี่น้อง</td>\n",
       "      <td>เขา จะ โชว์ กล้าม เขา นั่น แหละ ทุกคน</td>\n",
       "    </tr>\n",
       "    <tr>\n",
       "      <th>14</th>\n",
       "      <td>15.0</td>\n",
       "      <td>โอ/เค/จ้า/สุผู้สุคน/มื้อ/นี้/จั่ง/ใด๋/กะ/ขอบ/ค...</td>\n",
       "      <td>โอ/เค/จ้า/ทุก ๆ  คน/วัน/นี้/ยัง/ไง/ก็/ขอบ/คุณ/...</td>\n",
       "      <td>00:15:23</td>\n",
       "      <td>00:15:26</td>\n",
       "      <td>00:00:03</td>\n",
       "      <td>z-oo-z^-0 *kh-ee-z^-0 *c-aa-z^-2\\n*s-u-z^-1 *p...</td>\n",
       "      <td>โอ เค จ้า สุผู้สุคน มื้อ นี้ จั่ง ใด๋ กะ ขอบ ค...</td>\n",
       "      <td>โอ เค จ้า ทุก ๆ  คน วัน นี้ ยัง ไง ก็ ขอบ คุณ ...</td>\n",
       "    </tr>\n",
       "    <tr>\n",
       "      <th>15</th>\n",
       "      <td>16.0</td>\n",
       "      <td>จ้า/พ้อ/กัน/ใหม่/ใน/คลิป/วิ/ดี/โอ/หน้า/สวัสดี/...</td>\n",
       "      <td>จ้า/เจอ/กัน/ใหม่/ใน/คลิป/วิ/ดี/โอ/หน้า/สวัสดี/...</td>\n",
       "      <td>00:15:30</td>\n",
       "      <td>00:15:33</td>\n",
       "      <td>00:00:03</td>\n",
       "      <td>c-aa-z^-2 *ph-@@-z^-3 *k-a-n^-0 *m-a-j^-1 *n-a...</td>\n",
       "      <td>จ้า พ้อ กัน ใหม่ ใน คลิป วิ ดี โอ หน้า สวัสดี ...</td>\n",
       "      <td>จ้า เจอ กัน ใหม่ ใน คลิป วิ ดี โอ หน้า สวัสดี ...</td>\n",
       "    </tr>\n",
       "  </tbody>\n",
       "</table>\n",
       "</div>"
      ],
      "text/plain": [
       "      No                                          ภาษาอีสาน  \\\n",
       "0    1.0                          สวัสดี/สุผู้สุคน/เด้อ/จ้า   \n",
       "1    2.0       กิน/ข้าว/ก่อน/เด้อ/จ้า/ ไผ/สิ/ถ่า/เค้า/ดาวน์   \n",
       "2    3.0  เค้า/ดาว/กะ/ขอ/ให้/เค้า/ดาว/อย่าง/มี/ความ/สุข/...   \n",
       "3    4.0  นี่/จ้า/อา/หาร/เย็น/เป็น/ลา/ซาน/ย่า/กับ/ผัก/สด...   \n",
       "4    5.0                     ขอ/ให้/เชิญ/แซ่บ/เด้อ/พี่/น้อง   \n",
       "5    6.0         แมท/ธิว/บอก/ว่า/อี/แม่/อย่า/พึ่ง/หลับ/เด้อ   \n",
       "6    7.0                                       เงียบ/แฮงจัด   \n",
       "7    8.0          บ่/มี/ความ/รื่น/เริง/อี/หยัง/เลย/ข้าง/นอก   \n",
       "8    9.0               มื้อ/นี้/สิ/เบิ่ง/พุ/ตอน/หก/ทุ่ม/จ่ะ   \n",
       "9   10.0             ถ้า/ฝน/ตก/หิ/มะ/ตก/คึ/สิ/บ่/ได้/ออก/ไป   \n",
       "10  11.0  ปี/ที่/แล้ว/ออก/ไป/เบิ่ง/เขา/จุด/พุ/มัน/เป็น/ฝ...   \n",
       "11  12.0                        เพิ่น/ก้ม/แบบ/คน/เมา/นะ/จ้ะ   \n",
       "12  13.0  ก้ม/ก้ม/ส่อง/พุ/เพิ่น/จุด/ละ/เพิ่น/กะ/ก้ม/ส่อง...   \n",
       "13  14.0            เพิ่น/สิ/โซ/กล้าม/เพิ่น/หั่น/นะ/พี่น้อง   \n",
       "14  15.0  โอ/เค/จ้า/สุผู้สุคน/มื้อ/นี้/จั่ง/ใด๋/กะ/ขอบ/ค...   \n",
       "15  16.0  จ้า/พ้อ/กัน/ใหม่/ใน/คลิป/วิ/ดี/โอ/หน้า/สวัสดี/...   \n",
       "\n",
       "                                              ภาษาไทย     เริ่ม        จบ  \\\n",
       "0                               สวัสดี/ทุก ๆ คน/นะ/คะ  00:00:16  00:00:18   \n",
       "1           กิน/ข้าว/ก่อน/นะ/จ้ะ/ใคร/จะ/รอ/เค้า/ดาวน์  00:02:14  00:02:18   \n",
       "2   เค้า/ดาวน์/ก็/ขอ/ให้/เค้า/ดาน์/อย่าง/มี/ความ/ส...  00:02:21  00:02:25   \n",
       "3   นี่/จ้า/อา/หาร/เย็น/เป็น/ลา/ซาน/ย่า/กับ/ผัก/สด...  00:02:33  00:02:37   \n",
       "4                         ขอ/ให้/เชิญ/อร่อย/นะ/ทุก/คน  00:02:38  00:02:41   \n",
       "5           แมท/ธิว/บอก/ว่า/คุณ/แม่/อย่า/พึ่ง/หลับ/นะ  00:03:08  00:03:08   \n",
       "6                                         เงียบ/มาก ๆ  00:09:51  00:09:53   \n",
       "7            ไม่/มี/ความ/รื่น/เริง/อะ/ไร/เลย/ด้าน/นอก  00:10:07  00:10:11   \n",
       "8                  วัน/นี้/จะ/ดู/พุ/ตอน/หก/ทุ่ม/นะ/คะ  00:10:29  00:10:33   \n",
       "9             ถ้า/ฝน/ตก/หิ/มะ/ตก/คง/จะ/ไม่/ได้/ออก/ไป  00:10:40  00:10:43   \n",
       "10  ปี/ที่/แล้ว/ออก/ไป/ดู/เขา/จุด/พุ/มัน/เป็น/ฝน/ห...  00:10:52  00:10:56   \n",
       "11                         เขา/ก้ม/แบบ/คน/เมา/อ่ะ/ค่ะ  00:11:09  00:11:12   \n",
       "12  ก้ม/ก้ม/ส่อง/พุ/เขา/จุด/ละ/เขา/ก็/ก้ม/ส่อง/เขา...  00:11:14  00:11:18   \n",
       "13              เขา/จะ/โชว์/กล้าม/เขา/นั่น/แหละ/ทุกคน  00:13:11  00:13:13   \n",
       "14  โอ/เค/จ้า/ทุก ๆ  คน/วัน/นี้/ยัง/ไง/ก็/ขอบ/คุณ/...  00:15:23  00:15:26   \n",
       "15  จ้า/เจอ/กัน/ใหม่/ใน/คลิป/วิ/ดี/โอ/หน้า/สวัสดี/...  00:15:30  00:15:33   \n",
       "\n",
       "    จบ-เริ่ม                                                G2P  \\\n",
       "0   00:00:02  s-a-z^-1 w-a-t^-1 d-ii-z^-0 *s-u-z^-1 *ph-uu-z...   \n",
       "1   00:00:04  k-i-n^-0 *kh-aa-w^-2 *k-@@-n^-1 *d-qq-z^-2 *c-...   \n",
       "2   00:00:04  kh-a-w^-3 *d-aa-w^-0 *k-a-z^-1 *kh-@@-z^-4 *h-...   \n",
       "3   00:00:04  n-ii-z^-2 *c-aa-z^-2 *z-aa-z^-0 *h-aa-n^-4 *j-...   \n",
       "4   00:00:03  kh-@@-z^-4 *h-a-j^-2 *ch-qq-n^-0 *s-xx-p^-2 *d...   \n",
       "5   00:00:00  m-xx-t^-1 *th-i-w^-0 *b-@@-k^-1 *w-aa-z^-2 *z-...   \n",
       "6   00:00:02                  ng-iia-p^-2 *h-xx-ng^-0 *c-a-t^-1   \n",
       "7   00:00:04  b-@@-z^-1 *m-ii-z^-0 *khw-aa-m^-0 *r-vv-n^-2 *...   \n",
       "8   00:00:04  m-vv-z^-3 *n-ii-z^-3 *s-i-z^-1 *b-q-ng^-1 *ph-...   \n",
       "9   00:00:03  th-aa-z^-2 *f-o-n^-4 *t-o-k^-1 *h-i-z^-1 *m-a-...   \n",
       "10  00:00:04  p-ii-z^-0 *th-ii-z^-2 *l-xx-w^-3 *z-@@-k^-1 *p...   \n",
       "11  00:00:03  ph-qq-n^-2 *k-o-m^-3 *b-xx-p^-1 *kh-o-n^-0 *m-...   \n",
       "12  00:00:04  k-o-m^-3 *k-o-m^-3 *s-@-ng^-1 *ph-u-z^-3 *ph-q...   \n",
       "13  00:00:02  ph-qq-n^-2 *s-i-z^-1 *s-oo-z^-0 *kl-aa-m^-2 *p...   \n",
       "14  00:00:03  z-oo-z^-0 *kh-ee-z^-0 *c-aa-z^-2\\n*s-u-z^-1 *p...   \n",
       "15  00:00:03  c-aa-z^-2 *ph-@@-z^-3 *k-a-n^-0 *m-a-j^-1 *n-a...   \n",
       "\n",
       "                                        ภาษาอีสานใหม่  \\\n",
       "0                           สวัสดี สุผู้สุคน เด้อ จ้า   \n",
       "1        กิน ข้าว ก่อน เด้อ จ้า  ไผ สิ ถ่า เค้า ดาวน์   \n",
       "2   เค้า ดาว กะ ขอ ให้ เค้า ดาว อย่าง มี ความ สุข ...   \n",
       "3   นี่ จ้า อา หาร เย็น เป็น ลา ซาน ย่า กับ ผัก สด...   \n",
       "4                      ขอ ให้ เชิญ แซ่บ เด้อ พี่ น้อง   \n",
       "5          แมท ธิว บอก ว่า อี แม่ อย่า พึ่ง หลับ เด้อ   \n",
       "6                                        เงียบ แฮงจัด   \n",
       "7           บ่ มี ความ รื่น เริง อี หยัง เลย ข้าง นอก   \n",
       "8                มื้อ นี้ สิ เบิ่ง พุ ตอน หก ทุ่ม จ่ะ   \n",
       "9              ถ้า ฝน ตก หิ มะ ตก คึ สิ บ่ ได้ ออก ไป   \n",
       "10  ปี ที่ แล้ว ออก ไป เบิ่ง เขา จุด พุ มัน เป็น ฝ...   \n",
       "11                        เพิ่น ก้ม แบบ คน เมา นะ จ้ะ   \n",
       "12  ก้ม ก้ม ส่อง พุ เพิ่น จุด ละ เพิ่น กะ ก้ม ส่อง...   \n",
       "13            เพิ่น สิ โซ กล้าม เพิ่น หั่น นะ พี่น้อง   \n",
       "14  โอ เค จ้า สุผู้สุคน มื้อ นี้ จั่ง ใด๋ กะ ขอบ ค...   \n",
       "15  จ้า พ้อ กัน ใหม่ ใน คลิป วิ ดี โอ หน้า สวัสดี ...   \n",
       "\n",
       "                                          ภาษาไทยใหม่  \n",
       "0                               สวัสดี ทุก ๆ คน นะ คะ  \n",
       "1           กิน ข้าว ก่อน นะ จ้ะ ใคร จะ รอ เค้า ดาวน์  \n",
       "2   เค้า ดาวน์ ก็ ขอ ให้ เค้า ดาน์ อย่าง มี ความ ส...  \n",
       "3   นี่ จ้า อา หาร เย็น เป็น ลา ซาน ย่า กับ ผัก สด...  \n",
       "4                         ขอ ให้ เชิญ อร่อย นะ ทุก คน  \n",
       "5           แมท ธิว บอก ว่า คุณ แม่ อย่า พึ่ง หลับ นะ  \n",
       "6                                         เงียบ มาก ๆ  \n",
       "7            ไม่ มี ความ รื่น เริง อะ ไร เลย ด้าน นอก  \n",
       "8                  วัน นี้ จะ ดู พุ ตอน หก ทุ่ม นะ คะ  \n",
       "9             ถ้า ฝน ตก หิ มะ ตก คง จะ ไม่ ได้ ออก ไป  \n",
       "10  ปี ที่ แล้ว ออก ไป ดู เขา จุด พุ มัน เป็น ฝน ห...  \n",
       "11                         เขา ก้ม แบบ คน เมา อ่ะ ค่ะ  \n",
       "12  ก้ม ก้ม ส่อง พุ เขา จุด ละ เขา ก็ ก้ม ส่อง เขา...  \n",
       "13              เขา จะ โชว์ กล้าม เขา นั่น แหละ ทุกคน  \n",
       "14  โอ เค จ้า ทุก ๆ  คน วัน นี้ ยัง ไง ก็ ขอบ คุณ ...  \n",
       "15  จ้า เจอ กัน ใหม่ ใน คลิป วิ ดี โอ หน้า สวัสดี ...  "
      ]
     },
     "execution_count": 15,
     "metadata": {},
     "output_type": "execute_result"
    }
   ],
   "source": [
    "df"
   ]
  },
  {
   "cell_type": "markdown",
   "metadata": {},
   "source": [
    "จับคู่คำ"
   ]
  },
  {
   "cell_type": "code",
   "execution_count": 16,
   "metadata": {},
   "outputs": [],
   "source": [
    "def splitstr(col1):\n",
    "    co1 = col1.split('/') #แบ่งคำจาก /\n",
    "    return co1"
   ]
  },
  {
   "cell_type": "code",
   "execution_count": 17,
   "metadata": {},
   "outputs": [
    {
     "data": {
      "text/plain": [
       "['สวัสดี', 'สุผู้สุคน', 'เด้อ', 'จ้า']"
      ]
     },
     "execution_count": 17,
     "metadata": {},
     "output_type": "execute_result"
    }
   ],
   "source": [
    "splitstr(df.iloc[0,1])"
   ]
  },
  {
   "cell_type": "code",
   "execution_count": 42,
   "metadata": {},
   "outputs": [],
   "source": [
    "list_11 = []\n",
    "list_22 = []\n",
    "for i in range(0,7):\n",
    "    list_11 += splitstr(df.iloc[i,1])\n",
    "    list_22 += splitstr(df.iloc[i,2])"
   ]
  },
  {
   "cell_type": "code",
   "execution_count": 43,
   "metadata": {},
   "outputs": [],
   "source": [
    "def google(col1,col2):\n",
    "    str = f'{col1} แปลว่า {col2}'\n",
    "    return str"
   ]
  },
  {
   "cell_type": "code",
   "execution_count": 44,
   "metadata": {},
   "outputs": [],
   "source": [
    "oil = []\n",
    "for i in range(len(list_11)):\n",
    "    oil+= [google(list_11[i],list_22[i])]"
   ]
  },
  {
   "cell_type": "code",
   "execution_count": 45,
   "metadata": {},
   "outputs": [
    {
     "data": {
      "text/plain": [
       "'สุผู้สุคน'"
      ]
     },
     "execution_count": 45,
     "metadata": {},
     "output_type": "execute_result"
    }
   ],
   "source": [
    "list_11[1]"
   ]
  },
  {
   "cell_type": "code",
   "execution_count": 46,
   "metadata": {},
   "outputs": [
    {
     "data": {
      "text/plain": [
       "'สุผู้สุคน แปลว่า สุผู้สุคน'"
      ]
     },
     "execution_count": 46,
     "metadata": {},
     "output_type": "execute_result"
    }
   ],
   "source": [
    "google(list_11[1],list_11[1])"
   ]
  },
  {
   "cell_type": "code",
   "execution_count": 50,
   "metadata": {},
   "outputs": [],
   "source": [
    "Uoil = set(oil)"
   ]
  },
  {
   "cell_type": "code",
   "execution_count": 51,
   "metadata": {},
   "outputs": [
    {
     "data": {
      "text/plain": [
       "{' ไผ แปลว่า ใคร',\n",
       " 'กะ แปลว่า ก็',\n",
       " 'กับ แปลว่า กับ',\n",
       " 'กิน แปลว่า กิน',\n",
       " 'ก่อน แปลว่า ก่อน',\n",
       " 'ขอ แปลว่า ขอ',\n",
       " 'ข้าว แปลว่า ข้าว',\n",
       " 'ความ แปลว่า ความ',\n",
       " 'จ้ะ แปลว่า จ้ะ',\n",
       " 'จ้า แปลว่า คะ',\n",
       " 'จ้า แปลว่า จ้ะ',\n",
       " 'จ้า แปลว่า จ้า',\n",
       " 'ซาน แปลว่า ซาน',\n",
       " 'ดาว แปลว่า ดาน์',\n",
       " 'ดาว แปลว่า ดาวน์',\n",
       " 'ดาวน์ แปลว่า ดาวน์',\n",
       " 'ถ่า แปลว่า รอ',\n",
       " 'ธิว แปลว่า ธิว',\n",
       " 'นะ แปลว่า นะ',\n",
       " 'นี่ แปลว่า นี่',\n",
       " 'น้อง แปลว่า คน',\n",
       " 'บอก แปลว่า บอก',\n",
       " 'ผัก แปลว่า ผัก',\n",
       " 'พี่ แปลว่า ทุก',\n",
       " 'พึ่ง แปลว่า พึ่ง',\n",
       " 'มี แปลว่า มี',\n",
       " 'ย่า แปลว่า ย่า',\n",
       " 'ลา แปลว่า ลา',\n",
       " 'ว่า แปลว่า ว่า',\n",
       " 'สด แปลว่า สด',\n",
       " 'สวัสดี แปลว่า สวัสดี',\n",
       " 'สิ แปลว่า จะ',\n",
       " 'สุข แปลว่า สุข',\n",
       " 'สุผู้สุคน แปลว่า ทุก ๆ คน',\n",
       " 'หลับ แปลว่า หลับ',\n",
       " 'หาร แปลว่า หาร',\n",
       " 'อย่า แปลว่า อย่า',\n",
       " 'อย่าง แปลว่า อย่าง',\n",
       " 'อา แปลว่า อา',\n",
       " 'อี แปลว่า คุณ',\n",
       " 'เค้า แปลว่า เค้า',\n",
       " 'เงียบ แปลว่า เงียบ',\n",
       " 'เชิญ แปลว่า เชิญ',\n",
       " 'เด้อ แปลว่า นะ',\n",
       " 'เป็น แปลว่า เป็น',\n",
       " 'เย็น แปลว่า เย็น',\n",
       " 'แซ่บ แปลว่า อร่อย',\n",
       " 'แมท แปลว่า แมท',\n",
       " 'แม่ แปลว่า แม่',\n",
       " 'แฮงจัด แปลว่า มาก ๆ',\n",
       " 'ให้ แปลว่า ให้'}"
      ]
     },
     "execution_count": 51,
     "metadata": {},
     "output_type": "execute_result"
    }
   ],
   "source": [
    "Uoil"
   ]
  },
  {
   "cell_type": "code",
   "execution_count": null,
   "metadata": {},
   "outputs": [],
   "source": []
  }
 ],
 "metadata": {
  "kernelspec": {
   "display_name": "Python 3",
   "language": "python",
   "name": "python3"
  },
  "language_info": {
   "codemirror_mode": {
    "name": "ipython",
    "version": 3
   },
   "file_extension": ".py",
   "mimetype": "text/x-python",
   "name": "python",
   "nbconvert_exporter": "python",
   "pygments_lexer": "ipython3",
   "version": "3.7.3"
  }
 },
 "nbformat": 4,
 "nbformat_minor": 2
}
