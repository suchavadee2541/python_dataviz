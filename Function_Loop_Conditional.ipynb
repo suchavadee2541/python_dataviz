{
 "cells": [
  {
   "cell_type": "markdown",
   "metadata": {},
   "source": [
    "# Function\n",
    "### print ชื่อ xxx นามสกุล YYY รหัส zzzz\n",
    "### print เกรด วิชา stat 1 >>> AAA"
   ]
  },
  {
   "cell_type": "code",
   "execution_count": 4,
   "metadata": {},
   "outputs": [
    {
     "name": "stdout",
     "output_type": "stream",
     "text": [
      "ชื่อ สุชาวดี นามสกุล อัจฉริยวงศ์เมธี รหัส 603021888-7\n"
     ]
    }
   ],
   "source": [
    "a = 'ชื่อ สุชาวดี นามสกุล อัจฉริยวงศ์เมธี รหัส 603021888-7'\n",
    "print (a)"
   ]
  },
  {
   "cell_type": "code",
   "execution_count": 6,
   "metadata": {},
   "outputs": [
    {
     "name": "stdout",
     "output_type": "stream",
     "text": [
      "ชื่อสุชาวดี นามสกุลอัจฉริยวงศ์เมธี รหัส603021888-7\n"
     ]
    }
   ],
   "source": [
    "name = 'สุชาวดี'\n",
    "surname = 'อัจฉริยวงศ์เมธี'\n",
    "ID = '603021888-7'\n",
    "b = f'ชื่อ{name} นามสกุล{surname} รหัส{ID}'\n",
    "print (b)"
   ]
  },
  {
   "cell_type": "markdown",
   "metadata": {},
   "source": [
    "## Function template\n",
    "~~~~~~~python\n",
    "def function_name(input):\n",
    "    do_something\n",
    "    return output\n",
    "~~~~~~~"
   ]
  },
  {
   "cell_type": "code",
   "execution_count": 16,
   "metadata": {},
   "outputs": [],
   "source": [
    "def print_line1(name1,surname1,ID1):\n",
    "    st =  f'ชื่อ {name1}  นามสกุล {surname1} รหัส {ID1}'\n",
    "    return st"
   ]
  },
  {
   "cell_type": "code",
   "execution_count": 17,
   "metadata": {},
   "outputs": [
    {
     "name": "stdout",
     "output_type": "stream",
     "text": [
      "ชื่อ การญจนา  นามสกุล ประสาคุณ รหัส 603021855-2\n"
     ]
    }
   ],
   "source": [
    "print(print_line1('การญจนา','ประสาคุณ','603021855-2'))"
   ]
  },
  {
   "cell_type": "code",
   "execution_count": 21,
   "metadata": {},
   "outputs": [],
   "source": [
    "def print_2lines(name1,surname1,ID1,grade):\n",
    "    st =  f'ชื่อ {name1}  นามสกุล {surname1} รหัส {ID1}'\n",
    "    print (st)\n",
    "    st2 = f'เกรดวิชา stat 1 >>>  {grade}'\n",
    "    print(st2)"
   ]
  },
  {
   "cell_type": "code",
   "execution_count": 26,
   "metadata": {},
   "outputs": [
    {
     "name": "stdout",
     "output_type": "stream",
     "text": [
      "ชื่อ สุชาวดี  นามสกุล อัจฉิยวงศ์เมธี รหัส 603021888-7\n",
      "เกรดวิชา stat 1 >>>  A\n",
      "ชื่อ รสสุคณธ์  นามสกุล เอกไชย รหัส 603021315-4\n",
      "เกรดวิชา stat 1 >>>  A\n",
      "ชื่อ ปนิดา  นามสกุล ท่าประโคน รหัส 603020475-7\n",
      "เกรดวิชา stat 1 >>>  A\n",
      "ชื่อ นวลผกา  นามสกุล พิมพ์พัฒน์ รหัส 603021109-7\n",
      "เกรดวิชา stat 1 >>>  A\n"
     ]
    }
   ],
   "source": [
    "print_2lines('สุชาวดี','อัจฉิยวงศ์เมธี','603021888-7','A')\n",
    "print_2lines('รสสุคณธ์','เอกไชย','603021315-4','A')\n",
    "print_2lines('ปนิดา','ท่าประโคน','603020475-7','A')\n",
    "print_2lines('นวลผกา','พิมพ์พัฒน์','603021109-7','A')"
   ]
  },
  {
   "cell_type": "markdown",
   "metadata": {},
   "source": [
    "#### ผิดเพราะเว้นวรรคตรง print "
   ]
  },
  {
   "cell_type": "code",
   "execution_count": 24,
   "metadata": {},
   "outputs": [
    {
     "ename": "IndentationError",
     "evalue": "unexpected indent (<ipython-input-24-12c22e134522>, line 5)",
     "output_type": "error",
     "traceback": [
      "\u001b[1;36m  File \u001b[1;32m\"<ipython-input-24-12c22e134522>\"\u001b[1;36m, line \u001b[1;32m5\u001b[0m\n\u001b[1;33m    print(st2)\u001b[0m\n\u001b[1;37m    ^\u001b[0m\n\u001b[1;31mIndentationError\u001b[0m\u001b[1;31m:\u001b[0m unexpected indent\n"
     ]
    }
   ],
   "source": [
    "def print_2lines(name1,surname1,ID1,grade):\n",
    "    st =  f'ชื่อ {name1}  นามสกุล {surname1} รหัส {ID1}'\n",
    "    print (st)\n",
    "    st2 = f'เกรดวิชา stat 1 >>>  {grade}'\n",
    "     print(st2)"
   ]
  },
  {
   "cell_type": "markdown",
   "metadata": {},
   "source": [
    "#### อะไรสักอย่าง"
   ]
  },
  {
   "cell_type": "code",
   "execution_count": 25,
   "metadata": {},
   "outputs": [],
   "source": [
    "def print_2lines_er(name1,surname1,ID1,grade):\n",
    "    st =  f'ชื่อ {name1}  นามสกุล {surname1} รหัส {ID1}'\n",
    "    print (st)\n",
    "    st2 = f'เกรดวิชา stat 1 >>>  {grade}'\n",
    "    print(st2)"
   ]
  },
  {
   "cell_type": "code",
   "execution_count": 28,
   "metadata": {},
   "outputs": [
    {
     "name": "stdout",
     "output_type": "stream",
     "text": [
      "ชื่อ สุชาวดี  นามสกุล อัจฉิยวงศ์เมธี รหัส 603021888-7\n",
      "เกรดวิชา stat 1 >>>  A\n"
     ]
    }
   ],
   "source": [
    "print_2lines_er('สุชาวดี','อัจฉิยวงศ์เมธี','603021888-7','A')"
   ]
  },
  {
   "cell_type": "markdown",
   "metadata": {},
   "source": [
    "#### function ที่ไม่มี input "
   ]
  },
  {
   "cell_type": "code",
   "execution_count": 29,
   "metadata": {},
   "outputs": [],
   "source": [
    "def two_x_three():\n",
    "    x =2*3\n",
    "    return x"
   ]
  },
  {
   "cell_type": "code",
   "execution_count": 30,
   "metadata": {},
   "outputs": [
    {
     "data": {
      "text/plain": [
       "6"
      ]
     },
     "execution_count": 30,
     "metadata": {},
     "output_type": "execute_result"
    }
   ],
   "source": [
    "two_x_three()"
   ]
  },
  {
   "cell_type": "markdown",
   "metadata": {},
   "source": [
    "#### function with default argument"
   ]
  },
  {
   "cell_type": "code",
   "execution_count": 31,
   "metadata": {},
   "outputs": [],
   "source": [
    "def print_2lines_default(name1,surname1,ID1,grade='F'):\n",
    "    st =  f'ชื่อ {name1}  นามสกุล {surname1} รหัส {ID1}'\n",
    "    print (st)\n",
    "    st2 = f'เกรดวิชา stat 1 >>>  {grade}'\n",
    "    print(st2)"
   ]
  },
  {
   "cell_type": "code",
   "execution_count": 33,
   "metadata": {},
   "outputs": [
    {
     "name": "stdout",
     "output_type": "stream",
     "text": [
      "ชื่อ สุชาวดี  นามสกุล อัจฉิยวงศ์เมธี รหัส 603021888-7\n",
      "เกรดวิชา stat 1 >>>  F\n"
     ]
    }
   ],
   "source": [
    "print_2lines_default('สุชาวดี','อัจฉิยวงศ์เมธี','603021888-7')"
   ]
  },
  {
   "cell_type": "code",
   "execution_count": 34,
   "metadata": {},
   "outputs": [
    {
     "name": "stdout",
     "output_type": "stream",
     "text": [
      "ชื่อ สุชาวดี  นามสกุล อัจฉิยวงศ์เมธี รหัส 603021888-7\n",
      "เกรดวิชา stat 1 >>>  A+\n"
     ]
    }
   ],
   "source": [
    "print_2lines_default('สุชาวดี','อัจฉิยวงศ์เมธี','603021888-7','A+')"
   ]
  },
  {
   "cell_type": "code",
   "execution_count": 37,
   "metadata": {},
   "outputs": [
    {
     "name": "stdout",
     "output_type": "stream",
     "text": [
      "ชื่อ อัจฉิยวงศ์เมธี  นามสกุล สุชาวดี รหัส 603021888-7\n",
      "เกรดวิชา stat 1 >>>  F\n"
     ]
    }
   ],
   "source": [
    "print_2lines_default(surname1 = 'สุชาวดี' ,name1 = 'อัจฉิยวงศ์เมธี' ,ID1 = '603021888-7')"
   ]
  },
  {
   "cell_type": "markdown",
   "metadata": {},
   "source": [
    "# Loop (วนซ้ำ)"
   ]
  },
  {
   "cell_type": "markdown",
   "metadata": {},
   "source": [
    "~~~~~~~python\n",
    "for each_member in lista:\n",
    "    dosomething\n",
    "~~~~~~~"
   ]
  },
  {
   "cell_type": "markdown",
   "metadata": {},
   "source": [
    "การเขียน loop ต้องมี list  "
   ]
  },
  {
   "cell_type": "code",
   "execution_count": 38,
   "metadata": {},
   "outputs": [
    {
     "name": "stdout",
     "output_type": "stream",
     "text": [
      "1\n",
      "2\n",
      "3\n"
     ]
    }
   ],
   "source": [
    "for i in [1,2,3]:\n",
    "    print(i)"
   ]
  },
  {
   "cell_type": "code",
   "execution_count": 41,
   "metadata": {},
   "outputs": [
    {
     "name": "stdout",
     "output_type": "stream",
     "text": [
      " S -> /\n",
      " \n",
      " u -> /\n",
      " \n",
      " c -> /\n",
      " \n",
      " h -> /\n",
      " \n",
      " a -> /\n",
      " \n",
      " v -> /\n",
      " \n",
      " a -> /\n",
      " \n",
      " d -> /\n",
      " \n",
      " e -> /\n",
      " \n",
      " e -> /\n",
      " \n"
     ]
    }
   ],
   "source": [
    "for i in 'Suchavadee':\n",
    "    print (f' {i} -> /')\n",
    "    print (' ')"
   ]
  },
  {
   "cell_type": "markdown",
   "metadata": {},
   "source": [
    "## 1. สร้างList ชื่อเพื่อนที่อยู่ในแถวยาวเดียวกัน\n",
    "## 1.5. วน Loop print ประโยคว่า xxxเรา yyyความสึก zzzเพื่อน ทุกคนในแถว\n",
    "## 2.สร้างFunction โดยเปลี่ยนชื่อเพื่อนไปเรื่อยๆ"
   ]
  },
  {
   "cell_type": "code",
   "execution_count": 66,
   "metadata": {},
   "outputs": [],
   "source": [
    "def print_name(name,feellng,friend):\n",
    "    P = f' ชื่อ {name}, ความรู้สึก {feeling}, เพื่อน {friend}'\n",
    "    return P"
   ]
  },
  {
   "cell_type": "code",
   "execution_count": 67,
   "metadata": {},
   "outputs": [
    {
     "ename": "NameError",
     "evalue": "name 'feeling' is not defined",
     "output_type": "error",
     "traceback": [
      "\u001b[1;31m---------------------------------------------------------------------------\u001b[0m",
      "\u001b[1;31mNameError\u001b[0m                                 Traceback (most recent call last)",
      "\u001b[1;32m<ipython-input-67-53db96506b40>\u001b[0m in \u001b[0;36m<module>\u001b[1;34m\u001b[0m\n\u001b[1;32m----> 1\u001b[1;33m \u001b[0mprint\u001b[0m\u001b[1;33m(\u001b[0m\u001b[0mprint_name\u001b[0m\u001b[1;33m(\u001b[0m\u001b[1;34m'ปิง'\u001b[0m\u001b[1;33m,\u001b[0m\u001b[1;34m'รักนะจุ๊บๆ'\u001b[0m\u001b[1;33m,\u001b[0m\u001b[1;34m'ฟาง'\u001b[0m\u001b[1;33m)\u001b[0m\u001b[1;33m)\u001b[0m\u001b[1;33m\u001b[0m\u001b[1;33m\u001b[0m\u001b[0m\n\u001b[0m",
      "\u001b[1;32m<ipython-input-66-2c9cb05afa9c>\u001b[0m in \u001b[0;36mprint_name\u001b[1;34m(name, feellng, friend)\u001b[0m\n\u001b[0;32m      1\u001b[0m \u001b[1;32mdef\u001b[0m \u001b[0mprint_name\u001b[0m\u001b[1;33m(\u001b[0m\u001b[0mname\u001b[0m\u001b[1;33m,\u001b[0m\u001b[0mfeellng\u001b[0m\u001b[1;33m,\u001b[0m\u001b[0mfriend\u001b[0m\u001b[1;33m)\u001b[0m\u001b[1;33m:\u001b[0m\u001b[1;33m\u001b[0m\u001b[1;33m\u001b[0m\u001b[0m\n\u001b[1;32m----> 2\u001b[1;33m     \u001b[0mP\u001b[0m \u001b[1;33m=\u001b[0m \u001b[1;34mf' ชื่อ {name}, ความรู้สึก {feeling}, เพื่อน {friend}'\u001b[0m\u001b[1;33m\u001b[0m\u001b[1;33m\u001b[0m\u001b[0m\n\u001b[0m\u001b[0;32m      3\u001b[0m     \u001b[1;32mreturn\u001b[0m \u001b[0mP\u001b[0m\u001b[1;33m\u001b[0m\u001b[1;33m\u001b[0m\u001b[0m\n",
      "\u001b[1;31mNameError\u001b[0m: name 'feeling' is not defined"
     ]
    }
   ],
   "source": [
    "print(print_name('ปิง','รักนะจุ๊บๆ','ฟาง'))"
   ]
  },
  {
   "cell_type": "code",
   "execution_count": 65,
   "metadata": {},
   "outputs": [
    {
     "name": "stdout",
     "output_type": "stream",
     "text": [
      " ปิงรักนะจุ๊บๆ ฟาง\n",
      " \n",
      " ปิงรักนะจุ๊บๆ เขียว\n",
      " \n",
      " ปิงรักนะจุ๊บๆ เล็ก\n",
      " \n",
      " ปิงรักนะจุ๊บๆ ฝ้าย\n",
      " \n",
      " ปิงรักนะจุ๊บๆ บิวตี้\n",
      " \n",
      " ปิงรักนะจุ๊บๆ แป้ง\n",
      " \n"
     ]
    }
   ],
   "source": [
    "for i in ['ฟาง','เขียว','เล็ก','ฝ้าย','บิวตี้','แป้ง']:\n",
    "    print (f' ปิงรักนะจุ๊บๆ {i}')\n",
    "    print (' ')    "
   ]
  },
  {
   "cell_type": "markdown",
   "metadata": {},
   "source": [
    "### เฉลย"
   ]
  },
  {
   "cell_type": "markdown",
   "metadata": {},
   "source": [
    "1.Function in Loop"
   ]
  },
  {
   "cell_type": "code",
   "execution_count": 84,
   "metadata": {},
   "outputs": [],
   "source": [
    "friend_list = ['aaa','bbb','ccc']"
   ]
  },
  {
   "cell_type": "code",
   "execution_count": 85,
   "metadata": {},
   "outputs": [],
   "source": [
    "def print_feeling(I,feeling,friend):\n",
    "    print(f'{I} {feeling} {friend}')"
   ]
  },
  {
   "cell_type": "code",
   "execution_count": 86,
   "metadata": {},
   "outputs": [
    {
     "name": "stdout",
     "output_type": "stream",
     "text": [
      "มุธิตา รัก จันทราภรณ์\n"
     ]
    }
   ],
   "source": [
    "print_feeling('มุธิตา','รัก','จันทราภรณ์')"
   ]
  },
  {
   "cell_type": "code",
   "execution_count": 87,
   "metadata": {},
   "outputs": [
    {
     "name": "stdout",
     "output_type": "stream",
     "text": [
      "มุธิตา รัก aaa\n",
      "มุธิตา รัก bbb\n",
      "มุธิตา รัก ccc\n"
     ]
    }
   ],
   "source": [
    "for f in friend_list:\n",
    "    print_feeling('มุธิตา','รัก', f )"
   ]
  },
  {
   "cell_type": "markdown",
   "metadata": {},
   "source": [
    "2.Loop in function"
   ]
  },
  {
   "cell_type": "code",
   "execution_count": 90,
   "metadata": {},
   "outputs": [],
   "source": [
    "def print_feelings(I,feeling,friends):\n",
    "    for friend in friends:\n",
    "        print (f'{I} {feeling} {friend}')"
   ]
  },
  {
   "cell_type": "code",
   "execution_count": 91,
   "metadata": {},
   "outputs": [
    {
     "name": "stdout",
     "output_type": "stream",
     "text": [
      "มุธิตา รัก aaa\n",
      "มุธิตา รัก bbb\n",
      "มุธิตา รัก ccc\n"
     ]
    }
   ],
   "source": [
    "print_feelings('มุธิตา','รัก',friend_list)"
   ]
  },
  {
   "cell_type": "markdown",
   "metadata": {},
   "source": [
    "### looping in dict"
   ]
  },
  {
   "cell_type": "code",
   "execution_count": 92,
   "metadata": {},
   "outputs": [
    {
     "data": {
      "text/plain": [
       "{'พันทิพา': 'B', 'ปนัดดา': 'A', 'ทรงกลด': 'F'}"
      ]
     },
     "execution_count": 92,
     "metadata": {},
     "output_type": "execute_result"
    }
   ],
   "source": [
    "name_grade = {'พันทิพา':'B','ปนัดดา':'A','ทรงกลด':'F'}\n",
    "name_grade"
   ]
  },
  {
   "cell_type": "code",
   "execution_count": 93,
   "metadata": {},
   "outputs": [
    {
     "data": {
      "text/plain": [
       "'A'"
      ]
     },
     "execution_count": 93,
     "metadata": {},
     "output_type": "execute_result"
    }
   ],
   "source": [
    "name_grade['ปนัดดา']"
   ]
  },
  {
   "cell_type": "code",
   "execution_count": 96,
   "metadata": {},
   "outputs": [
    {
     "name": "stdout",
     "output_type": "stream",
     "text": [
      " พันทิพา ได้เกรด B\n",
      " ปนัดดา ได้เกรด A\n",
      " ทรงกลด ได้เกรด F\n"
     ]
    }
   ],
   "source": [
    "for i in name_grade.keys():\n",
    "    print (f' {i} ได้เกรด {name_grade[i]}')"
   ]
  },
  {
   "cell_type": "markdown",
   "metadata": {},
   "source": [
    "Loop in Loop"
   ]
  },
  {
   "cell_type": "code",
   "execution_count": 97,
   "metadata": {},
   "outputs": [
    {
     "name": "stdout",
     "output_type": "stream",
     "text": [
      "aaa love aaa\n",
      "aaa love bbb\n",
      "aaa love ccc\n",
      "bbb love aaa\n",
      "bbb love bbb\n",
      "bbb love ccc\n",
      "ccc love aaa\n",
      "ccc love bbb\n",
      "ccc love ccc\n"
     ]
    }
   ],
   "source": [
    "for name1 in friend_list:\n",
    "    for name2 in friend_list:\n",
    "        print_feeling(name1,'love',name2)"
   ]
  },
  {
   "cell_type": "markdown",
   "metadata": {},
   "source": [
    "# Conditional (IF) คือเงื่อนไข"
   ]
  },
  {
   "cell_type": "markdown",
   "metadata": {},
   "source": [
    "## ==(เช็คว่าเท่ากันมั้ย),\n",
    "## !=(ไม่เท่ากัน),\n",
    "## >= (เช็คว่ามันมากกว่าหรือเท่ากับหรือไม่ ถ้าเป็นไปตามนั้นก็True),\n",
    "## <=(เช็คว่ามันน้อยกว่าหรือเท่ากับหรือไม่ ถ้าเป็นไปตามนั้นก็True),\n",
    "## >,\n",
    "## <"
   ]
  },
  {
   "cell_type": "markdown",
   "metadata": {},
   "source": [
    "~~~~~python\n",
    "if condition1:\n",
    "    do something\n",
    "elif condition2:\n",
    "    do something\n",
    "else:\n",
    "    do...\n",
    "~~~~~"
   ]
  },
  {
   "cell_type": "code",
   "execution_count": 98,
   "metadata": {},
   "outputs": [
    {
     "name": "stdout",
     "output_type": "stream",
     "text": [
      "สวัสดี love bbb\n",
      "สวัสดี love ccc\n",
      "สวัสดี love aaa\n",
      "สวัสดี love ccc\n",
      "สวัสดี love aaa\n",
      "สวัสดี love bbb\n"
     ]
    }
   ],
   "source": [
    "for name1 in friend_list:\n",
    "    for name2 in friend_list:\n",
    "        if name1 != name2:\n",
    "            print_feeling(name,'love',name2)"
   ]
  },
  {
   "cell_type": "code",
   "execution_count": 100,
   "metadata": {},
   "outputs": [
    {
     "name": "stdout",
     "output_type": "stream",
     "text": [
      "Yes\n"
     ]
    }
   ],
   "source": [
    "if True:\n",
    "    print('Yes')"
   ]
  },
  {
   "cell_type": "code",
   "execution_count": 101,
   "metadata": {},
   "outputs": [],
   "source": [
    "if False:\n",
    "    print('No')"
   ]
  },
  {
   "cell_type": "code",
   "execution_count": 102,
   "metadata": {},
   "outputs": [
    {
     "name": "stdout",
     "output_type": "stream",
     "text": [
      "No\n"
     ]
    }
   ],
   "source": [
    "if False:\n",
    "    print ('Yes')\n",
    "else:\n",
    "    print('No')"
   ]
  },
  {
   "cell_type": "code",
   "execution_count": 103,
   "metadata": {},
   "outputs": [
    {
     "data": {
      "text/plain": [
       "True"
      ]
     },
     "execution_count": 103,
     "metadata": {},
     "output_type": "execute_result"
    }
   ],
   "source": [
    "1==1"
   ]
  },
  {
   "cell_type": "code",
   "execution_count": 104,
   "metadata": {},
   "outputs": [
    {
     "name": "stdout",
     "output_type": "stream",
     "text": [
      "1=1\n"
     ]
    }
   ],
   "source": [
    "if 1==1:\n",
    "    print('1=1')"
   ]
  },
  {
   "cell_type": "markdown",
   "metadata": {},
   "source": [
    "# HW. \n",
    "### เขียน function ตัดเกรด โดยที่ input เป็นคะแนน(0-100) output เป็นเกรด(F-A)\n",
    "input = [1,  50,  65,   90,   101,  -5,   49]"
   ]
  },
  {
   "cell_type": "code",
   "execution_count": 2,
   "metadata": {},
   "outputs": [
    {
     "name": "stdout",
     "output_type": "stream",
     "text": [
      "[1, 50, 65, 90, 101, -5, 49]\n"
     ]
    }
   ],
   "source": [
    "Grade = [1,50,65,90,101,-5,49]\n",
    "print(Grade)"
   ]
  },
  {
   "cell_type": "code",
   "execution_count": 10,
   "metadata": {},
   "outputs": [
    {
     "name": "stdout",
     "output_type": "stream",
     "text": [
      "Grade is F\n",
      "Grade is D\n",
      "Grade is C+\n",
      "Grade is A\n",
      "Grade is Error\n",
      "Grade is Error\n",
      "Grade is F\n"
     ]
    }
   ],
   "source": [
    "for g in Grade:\n",
    "    if g > 100:\n",
    "        print ('Grade is Error')\n",
    "    elif g > 79:\n",
    "        print ('Grade is A')\n",
    "    elif g > 74:\n",
    "        print ('Grade is B+')\n",
    "    elif g > 69:\n",
    "        print ('Grade is B')\n",
    "    elif g > 64:\n",
    "        print ('Grade is C+')\n",
    "    elif g > 59:\n",
    "        print ('Grade is C')\n",
    "    elif g > 54:\n",
    "        print ('Grade is D+')\n",
    "    elif g > 49:\n",
    "        print ('Grade is D')\n",
    "    elif g > 0:\n",
    "        print ('Grade is F')\n",
    "    else:\n",
    "        print ('Grade is Error')"
   ]
  },
  {
   "cell_type": "code",
   "execution_count": null,
   "metadata": {},
   "outputs": [],
   "source": []
  }
 ],
 "metadata": {
  "kernelspec": {
   "display_name": "Python 3",
   "language": "python",
   "name": "python3"
  },
  "language_info": {
   "codemirror_mode": {
    "name": "ipython",
    "version": 3
   },
   "file_extension": ".py",
   "mimetype": "text/x-python",
   "name": "python",
   "nbconvert_exporter": "python",
   "pygments_lexer": "ipython3",
   "version": "3.7.3"
  }
 },
 "nbformat": 4,
 "nbformat_minor": 2
}
